{
 "cells": [
  {
   "cell_type": "code",
   "execution_count": 1,
   "metadata": {},
   "outputs": [],
   "source": [
    "import pafy\n",
    "import pickle\n",
    "import youtube_dl\n",
    "\n",
    "import pandas as pd\n",
    "import numpy as np\n",
    "\n",
    "from youtube_transcript_api import YouTubeTranscriptApi"
   ]
  },
  {
   "cell_type": "code",
   "execution_count": 46,
   "metadata": {},
   "outputs": [
    {
     "data": {
      "text/html": [
       "<div>\n",
       "<style scoped>\n",
       "    .dataframe tbody tr th:only-of-type {\n",
       "        vertical-align: middle;\n",
       "    }\n",
       "\n",
       "    .dataframe tbody tr th {\n",
       "        vertical-align: top;\n",
       "    }\n",
       "\n",
       "    .dataframe thead th {\n",
       "        text-align: right;\n",
       "    }\n",
       "</style>\n",
       "<table border=\"1\" class=\"dataframe\">\n",
       "  <thead>\n",
       "    <tr style=\"text-align: right;\">\n",
       "      <th></th>\n",
       "      <th>links</th>\n",
       "    </tr>\n",
       "  </thead>\n",
       "  <tbody>\n",
       "    <tr>\n",
       "      <th>0</th>\n",
       "      <td>https://www.youtube.com/watch?v=_X0iQgqh5Ng</td>\n",
       "    </tr>\n",
       "    <tr>\n",
       "      <th>1</th>\n",
       "      <td>https://www.youtube.com/watch?v=_yzrSVdvs58</td>\n",
       "    </tr>\n",
       "    <tr>\n",
       "      <th>2</th>\n",
       "      <td>https://www.youtube.com/watch?v=-2_IX_5cnNg</td>\n",
       "    </tr>\n",
       "    <tr>\n",
       "      <th>3</th>\n",
       "      <td>https://www.youtube.com/watch?v=-2_IX_5cnNg</td>\n",
       "    </tr>\n",
       "    <tr>\n",
       "      <th>4</th>\n",
       "      <td>https://www.youtube.com/watch?v=0plzTAtS4uk</td>\n",
       "    </tr>\n",
       "  </tbody>\n",
       "</table>\n",
       "</div>"
      ],
      "text/plain": [
       "                                         links\n",
       "0  https://www.youtube.com/watch?v=_X0iQgqh5Ng\n",
       "1  https://www.youtube.com/watch?v=_yzrSVdvs58\n",
       "2  https://www.youtube.com/watch?v=-2_IX_5cnNg\n",
       "3  https://www.youtube.com/watch?v=-2_IX_5cnNg\n",
       "4  https://www.youtube.com/watch?v=0plzTAtS4uk"
      ]
     },
     "execution_count": 46,
     "metadata": {},
     "output_type": "execute_result"
    }
   ],
   "source": [
    "vids = pd.read_csv(\"./Videos - Sheet2.csv\",header=None)\n",
    "vids = pd.concat([vids, pd.read_csv(\"./Videos - Sheet3.csv\",header=None)],ignore_index=True)\n",
    "vids.columns = [\"links\"]\n",
    "vids.head()"
   ]
  },
  {
   "cell_type": "code",
   "execution_count": 47,
   "metadata": {},
   "outputs": [
    {
     "data": {
      "text/html": [
       "<div>\n",
       "<style scoped>\n",
       "    .dataframe tbody tr th:only-of-type {\n",
       "        vertical-align: middle;\n",
       "    }\n",
       "\n",
       "    .dataframe tbody tr th {\n",
       "        vertical-align: top;\n",
       "    }\n",
       "\n",
       "    .dataframe thead th {\n",
       "        text-align: right;\n",
       "    }\n",
       "</style>\n",
       "<table border=\"1\" class=\"dataframe\">\n",
       "  <thead>\n",
       "    <tr style=\"text-align: right;\">\n",
       "      <th></th>\n",
       "      <th>links</th>\n",
       "    </tr>\n",
       "  </thead>\n",
       "  <tbody>\n",
       "    <tr>\n",
       "      <th>167</th>\n",
       "      <td>https://www.youtube.com/watch?v=sRsCTXIcb5M</td>\n",
       "    </tr>\n",
       "    <tr>\n",
       "      <th>168</th>\n",
       "      <td>https://www.youtube.com/watch?v=M6WrvPyVnN0</td>\n",
       "    </tr>\n",
       "    <tr>\n",
       "      <th>169</th>\n",
       "      <td>https://www.youtube.com/watch?v=MtFxmFYioas</td>\n",
       "    </tr>\n",
       "    <tr>\n",
       "      <th>170</th>\n",
       "      <td>https://www.youtube.com/watch?v=MPqipb77_7s</td>\n",
       "    </tr>\n",
       "    <tr>\n",
       "      <th>171</th>\n",
       "      <td>https://www.youtube.com/watch?v=46EH2NDHM6g</td>\n",
       "    </tr>\n",
       "  </tbody>\n",
       "</table>\n",
       "</div>"
      ],
      "text/plain": [
       "                                           links\n",
       "167  https://www.youtube.com/watch?v=sRsCTXIcb5M\n",
       "168  https://www.youtube.com/watch?v=M6WrvPyVnN0\n",
       "169  https://www.youtube.com/watch?v=MtFxmFYioas\n",
       "170  https://www.youtube.com/watch?v=MPqipb77_7s\n",
       "171  https://www.youtube.com/watch?v=46EH2NDHM6g"
      ]
     },
     "execution_count": 47,
     "metadata": {},
     "output_type": "execute_result"
    }
   ],
   "source": [
    "vids.tail()"
   ]
  },
  {
   "cell_type": "code",
   "execution_count": 48,
   "metadata": {},
   "outputs": [],
   "source": [
    "def get_id(x):\n",
    "    try:\n",
    "        return str(x).split(\"v=\")[1]\n",
    "    except:\n",
    "        return None"
   ]
  },
  {
   "cell_type": "code",
   "execution_count": 49,
   "metadata": {},
   "outputs": [
    {
     "data": {
      "text/plain": [
       "(160, 2)"
      ]
     },
     "execution_count": 49,
     "metadata": {},
     "output_type": "execute_result"
    }
   ],
   "source": [
    "vids[\"ids\"] = vids.links.apply(lambda x: get_id(x))\n",
    "vids=vids.drop_duplicates(subset=\"ids\")\n",
    "vids.shape"
   ]
  },
  {
   "cell_type": "code",
   "execution_count": 50,
   "metadata": {},
   "outputs": [],
   "source": [
    "good, bad = YouTubeTranscriptApi.get_transcripts(vids.ids.values,languages=[\"pt-BR\",\"pt\"],continue_after_error=True)"
   ]
  },
  {
   "cell_type": "code",
   "execution_count": 51,
   "metadata": {},
   "outputs": [],
   "source": [
    "pickle.dump(good, open( \"transcripts_vall.pkl\", \"wb\" ) )"
   ]
  },
  {
   "cell_type": "code",
   "execution_count": 52,
   "metadata": {},
   "outputs": [
    {
     "data": {
      "text/plain": [
       "dict_keys(['_X0iQgqh5Ng', '_yzrSVdvs58', '-2_IX_5cnNg', '0plzTAtS4uk', '0WvFyh21Oj8', '1G3xGElhovE', '1he2uX3RVjs', '2v5ZXm3mg30', '3U9c89apC4I', '3x2ltTebBtk', '4KvXXcvb5yo', '5f2D3qgobNs', '5FIptgvPda8', '5LQQ1awt4a4', '5zPQtoIHg0w', '6wsUJM27FOA', '72UPlH_HI-M', '7XPqolAYYfs', '8HbwjU5qKzQ', '8oJVhqXFr3E', '9_q0jiT7ngY', '9c2JF76Zk-c', 'ayqxokRplTE', 'bDJuRMWPUMo', 'BdUiyld-Zow', 'byg5zKJHovI', 'C84iz0ZzNDA', 'CtM7pHMY4xI', 'DjlBgBVzJeo', 'djMn8MC2S6g', 'F7khh8olPfg', 'ffWW-qU96Y0', 'FnDM14GLvMw', 'HaoC0qBGI74', 'IbBoP4he8hE', 'IEC7eGToTGk', 'J8D5eQGeAwo', 'JqaWABoCavU', 'jSoZND-Li1Q', 'JvXjBzgTaKg', 'KT3Uu51j1xA', 'lIaKxG0mmX0', 'Lp50jumXygg', 'LWja-aYK5wU', 'msAqTEbEPP4', 'MZH5gedZU8U', 'nX0o5rKJLj0', 'OAMX3maxsSM', 'OPFMBcoJmxk', 'ORXCoTj-0Ik', 'OWCaNb9GPp0', 'pCyFdWr4R2U', 'PGCen2cbI6Q', 'Qy6d86_p7A8', 'rNp5IipBONI', 'RXbv3t-JU34', 'sgsoCqk1Idc', 'sqBGeInWo-M', 'Te5oTb6v28o', 'tI2wW2ir-EA', 'tIUKAkfe0c8', 'trMfmkwNL0c', 'twOPe8UdvBI', 'UEvQdM4DuDs', 'UfQ0_La0udc', 'UiiS6AS7mPs', 'uSd_h5Tz2Eg', 'V7ZkzTirCR4', 'VbaWNJYElJs', 'wzbjdFnRw5I', 'WZQ2SExykIY', 'xewoEkQVupI', 'xRZqRQ1ma30', 'Xtz4bmlHdfQ', 'XYh1sZCSngY', 'YePLmtfaUe4', 'YhKwEFIdXbg', 'ZFDflpXuiUA', 'zfQWNWgHyPI', 'zpHmV1hXaaA', 'ZyU4aRPGZKw', 'H8CdN1iQe5k', 'oxlUhUvfM5k', 'Nue8EaC2l0o', 'ByiNh1qmM14', 'esW8pH-Dv_E', 'bN0i6RTWocM', '_ZUmbofMyYA', 'MqbhXqcOG-o', '7Ybo87zi0vs', 'wY7AKCuPMZk', 'IDtPQIuidCs', '6nQONx4LrhI', 'C9_w4agHkrs', 'Yr850V7Losw', 'wFRNo4chEPY', 'ZxyJy7RN1sM', '4NVgDC3-YLo', 't_7NVaDwV3U', 'pY7ZWjZjl3k', 'pu5wmb8LHa8', 'HueiCZ0dQGk', 'AA7ML2GTShQ', 'tX5YAf3FbKY', '9XY4sCNixH0', 'iFNZxM3VnSM', 'gPvobd3QKwM', 'cPeKOpPrm38', 'BIJR5yCBKp8', 'V32uUYE5zx0', 'Iy_CN6ugubU', 'Ongef7o7jIM', 'KzQDoyszi6Y', 'vfAw2wUUOkM', 'cQGtq8XrK4Q', '9duiVHEgZPQ', 'Zoo_zasErNw', '6Jp9EnTzg3I', 'oTkKUMWK2Do', 'Lc6mUd4QG24', 'VtoL0KOd9WM', 'Oh3M6kz42Yo', 'Gz8m6t6omaE', 'QK95NOQScYg', 'ThgJMSlbB6k', 'E6CcTtAmwAM', 'NLlsihENFFM', '6efwUjasMhY', '0zUtIldz78M', 'AfQvyuuPoW8', '7raMQ7kf5ck', 'CIytl3hlOzs', 'apTU86NHlXw', 'k3brZzuC5Ug', 'pOlN4rnIYko', 'kyK6gUh0EqM', '7LE_ATOAO-U', 'idx_hSZorZY', '5kkzU81WtsE', 'l-CVnA-fSTw', 'JYwCZ5F5wyk', 'uBXXlFBvJpA', 'uie-3zmhbLk', 'hIPoZznC_7g', 'JJ9hZHquINg', 'Bg4XIkx3ZM4', 'TH3Ob2ffnfU', '28WINgcUwaw', 'WNaQahAgLfQ', 'fx_0wiK8D1U', 'HTsgd8NbINs', 'RULtAWCvz5M', 'kCbRJqkajnE', 'FSGfuJx8hfs', 'gjSDOFNC93E', 'sRsCTXIcb5M', 'M6WrvPyVnN0', 'MtFxmFYioas', 'MPqipb77_7s', '46EH2NDHM6g'])"
      ]
     },
     "execution_count": 52,
     "metadata": {},
     "output_type": "execute_result"
    }
   ],
   "source": [
    "good.keys()"
   ]
  },
  {
   "cell_type": "code",
   "execution_count": 53,
   "metadata": {},
   "outputs": [
    {
     "data": {
      "text/plain": [
       "160"
      ]
     },
     "execution_count": 53,
     "metadata": {},
     "output_type": "execute_result"
    }
   ],
   "source": [
    "len(good.keys())"
   ]
  },
  {
   "cell_type": "code",
   "execution_count": 54,
   "metadata": {},
   "outputs": [
    {
     "data": {
      "text/plain": [
       "[]"
      ]
     },
     "execution_count": 54,
     "metadata": {},
     "output_type": "execute_result"
    }
   ],
   "source": [
    "bad"
   ]
  },
  {
   "cell_type": "code",
   "execution_count": null,
   "metadata": {},
   "outputs": [],
   "source": [
    "#for url in good.keys():\n",
    "#    video = pafy.new(url)\n",
    "#    bestaudio = video.getbestaudio()\n",
    "#    bestaudio.download(meta=True) # Baixa na pasta que se encontra o codigo"
   ]
  },
  {
   "cell_type": "code",
   "execution_count": 55,
   "metadata": {},
   "outputs": [
    {
     "name": "stdout",
     "output_type": "stream",
     "text": [
      "Removing cache dir C:\\Users\\carol/.cache\\youtube-dl ...\n",
      "[youtube] _X0iQgqh5Ng: Downloading webpage\n",
      "[download] Destination: A busca do Gerson _ Cliente Itaú-_X0iQgqh5Ng.m4a\n",
      "[download] 100% of 476.41KiB in 00:00                  \n"
     ]
    },
    {
     "name": "stderr",
     "output_type": "stream",
     "text": [
      "WARNING: _X0iQgqh5Ng: writing DASH m4a. Only some players support this container. Install ffmpeg or avconv to fix this automatically.\n"
     ]
    },
    {
     "name": "stdout",
     "output_type": "stream",
     "text": [
      "[youtube] _yzrSVdvs58: Downloading webpage\n",
      "[download] Destination: O Festival #LeiaEmCasa - Dica 'Como contar histórias que dão medo' com Kiara Terra.-_yzrSVdvs58.m4a\n",
      "[download] 100% of 1.71MiB in 00:00                  \n"
     ]
    },
    {
     "name": "stderr",
     "output_type": "stream",
     "text": [
      "WARNING: _yzrSVdvs58: writing DASH m4a. Only some players support this container. Install ffmpeg or avconv to fix this automatically.\n"
     ]
    },
    {
     "name": "stdout",
     "output_type": "stream",
     "text": [
      "[youtube] -2_IX_5cnNg: Downloading webpage\n",
      "[download] Destination: Programa Travessia--2_IX_5cnNg.m4a\n",
      "[download] 100% of 952.34KiB in 00:00                  \n"
     ]
    },
    {
     "name": "stderr",
     "output_type": "stream",
     "text": [
      "WARNING: -2_IX_5cnNg: writing DASH m4a. Only some players support this container. Install ffmpeg or avconv to fix this automatically.\n"
     ]
    },
    {
     "name": "stdout",
     "output_type": "stream",
     "text": [
      "[youtube] 0plzTAtS4uk: Downloading webpage\n",
      "[download] Destination: A busca do professor _ Conheça a história do Donatti e da Izabel-0plzTAtS4uk.m4a\n",
      "[download] 100% of 1.91MiB in 00:00                  \n"
     ]
    },
    {
     "name": "stderr",
     "output_type": "stream",
     "text": [
      "WARNING: 0plzTAtS4uk: writing DASH m4a. Only some players support this container. Install ffmpeg or avconv to fix this automatically.\n"
     ]
    },
    {
     "name": "stdout",
     "output_type": "stream",
     "text": [
      "[youtube] 0WvFyh21Oj8: Downloading webpage\n",
      "[download] Destination: DEMITA SEU GERENTE DO BANCO-0WvFyh21Oj8.m4a\n",
      "[download] 100% of 5.91MiB in 00:00                  \n"
     ]
    },
    {
     "name": "stderr",
     "output_type": "stream",
     "text": [
      "WARNING: 0WvFyh21Oj8: writing DASH m4a. Only some players support this container. Install ffmpeg or avconv to fix this automatically.\n"
     ]
    },
    {
     "name": "stdout",
     "output_type": "stream",
     "text": [
      "[youtube] 1G3xGElhovE: Downloading webpage\n",
      "[youtube] 1G3xGElhovE: Downloading MPD manifest\n",
      "[dashsegments] Total fragments: 7\n",
      "[download] Destination: Cartão Virtual _ O que é-1G3xGElhovE.m4a\n",
      "[download] 100% of 923.92KiB in 00:01                   \n"
     ]
    },
    {
     "name": "stderr",
     "output_type": "stream",
     "text": [
      "WARNING: 1G3xGElhovE: writing DASH m4a. Only some players support this container. Install ffmpeg or avconv to fix this automatically.\n"
     ]
    },
    {
     "name": "stdout",
     "output_type": "stream",
     "text": [
      "[youtube] 1he2uX3RVjs: Downloading webpage\n",
      "[download] Destination: Diários de Bicicleta - Marcelo-1he2uX3RVjs.m4a\n",
      "[download] 100% of 1.16MiB in 00:00                  \n"
     ]
    },
    {
     "name": "stderr",
     "output_type": "stream",
     "text": [
      "WARNING: 1he2uX3RVjs: writing DASH m4a. Only some players support this container. Install ffmpeg or avconv to fix this automatically.\n"
     ]
    },
    {
     "name": "stdout",
     "output_type": "stream",
     "text": [
      "[youtube] 2v5ZXm3mg30: Downloading webpage\n",
      "[download] Destination: Diários de Bicicleta - Mariana-2v5ZXm3mg30.m4a\n",
      "[download] 100% of 1.45MiB in 00:00                  \n"
     ]
    },
    {
     "name": "stderr",
     "output_type": "stream",
     "text": [
      "WARNING: 2v5ZXm3mg30: writing DASH m4a. Only some players support this container. Install ffmpeg or avconv to fix this automatically.\n"
     ]
    },
    {
     "name": "stdout",
     "output_type": "stream",
     "text": [
      "[youtube] 3U9c89apC4I: Downloading webpage\n",
      "[download] Destination: O Itaú tem tudo pra você.-3U9c89apC4I.m4a\n",
      "[download] 100% of 950.87KiB in 00:00                  \n"
     ]
    },
    {
     "name": "stderr",
     "output_type": "stream",
     "text": [
      "WARNING: 3U9c89apC4I: writing DASH m4a. Only some players support this container. Install ffmpeg or avconv to fix this automatically.\n"
     ]
    },
    {
     "name": "stdout",
     "output_type": "stream",
     "text": [
      "[youtube] 3x2ltTebBtk: Downloading webpage\n",
      "[download] Destination: Banda Itaú _ Em busca das diferenças-3x2ltTebBtk.m4a\n",
      "[download] 100% of 1.39MiB in 00:00                  \n"
     ]
    },
    {
     "name": "stderr",
     "output_type": "stream",
     "text": [
      "WARNING: 3x2ltTebBtk: writing DASH m4a. Only some players support this container. Install ffmpeg or avconv to fix this automatically.\n"
     ]
    },
    {
     "name": "stdout",
     "output_type": "stream",
     "text": [
      "[youtube] 4KvXXcvb5yo: Downloading webpage\n",
      "[download] Destination: Diários de Bicicleta-4KvXXcvb5yo.m4a\n",
      "[download] 100% of 1.93MiB in 00:00                  \n"
     ]
    },
    {
     "name": "stderr",
     "output_type": "stream",
     "text": [
      "WARNING: 4KvXXcvb5yo: writing DASH m4a. Only some players support this container. Install ffmpeg or avconv to fix this automatically.\n"
     ]
    },
    {
     "name": "stdout",
     "output_type": "stream",
     "text": [
      "[youtube] 5f2D3qgobNs: Downloading webpage\n",
      "[download] Destination: Itaucard – Conheça como pagar partes da fatura do seu cartão ao longo do mês-5f2D3qgobNs.m4a\n",
      "[download] 100% of 1.20MiB in 00:00                  \n"
     ]
    },
    {
     "name": "stderr",
     "output_type": "stream",
     "text": [
      "WARNING: 5f2D3qgobNs: writing DASH m4a. Only some players support this container. Install ffmpeg or avconv to fix this automatically.\n"
     ]
    },
    {
     "name": "stdout",
     "output_type": "stream",
     "text": [
      "[youtube] 5FIptgvPda8: Downloading webpage\n",
      "[download] Destination: Atendimento – Buscando mais tempo para o que realmente importa-5FIptgvPda8.m4a\n",
      "[download] 100% of 476.75KiB in 00:00                          \n"
     ]
    },
    {
     "name": "stderr",
     "output_type": "stream",
     "text": [
      "WARNING: 5FIptgvPda8: writing DASH m4a. Only some players support this container. Install ffmpeg or avconv to fix this automatically.\n"
     ]
    },
    {
     "name": "stdout",
     "output_type": "stream",
     "text": [
      "[youtube] 5LQQ1awt4a4: Downloading webpage\n",
      "[download] Destination: Empréstimo Itaú - Até 90 dias para começar a pagar-5LQQ1awt4a4.m4a\n",
      "[download] 100% of 239.24KiB in 00:00                  \n"
     ]
    },
    {
     "name": "stderr",
     "output_type": "stream",
     "text": [
      "WARNING: 5LQQ1awt4a4: writing DASH m4a. Only some players support this container. Install ffmpeg or avconv to fix this automatically.\n"
     ]
    },
    {
     "name": "stdout",
     "output_type": "stream",
     "text": [
      "[youtube] 5zPQtoIHg0w: Downloading webpage\n",
      "[download] Destination: Férias Itaú - Buscando tranquilidade para curtir as férias-5zPQtoIHg0w.m4a\n",
      "[download] 100% of 476.83KiB in 00:00                  \n"
     ]
    },
    {
     "name": "stderr",
     "output_type": "stream",
     "text": [
      "WARNING: 5zPQtoIHg0w: writing DASH m4a. Only some players support this container. Install ffmpeg or avconv to fix this automatically.\n"
     ]
    },
    {
     "name": "stdout",
     "output_type": "stream",
     "text": [
      "[youtube] 6wsUJM27FOA: Downloading webpage\n",
      "[youtube] 6wsUJM27FOA: Downloading MPD manifest\n",
      "[dashsegments] Total fragments: 12\n",
      "[download] Destination: Itaú – Sob Medida em Dia-6wsUJM27FOA.m4a\n",
      "[download] 100% of 1.58MiB in 00:01                     \n"
     ]
    },
    {
     "name": "stderr",
     "output_type": "stream",
     "text": [
      "WARNING: 6wsUJM27FOA: writing DASH m4a. Only some players support this container. Install ffmpeg or avconv to fix this automatically.\n"
     ]
    },
    {
     "name": "stdout",
     "output_type": "stream",
     "text": [
      "[youtube] 72UPlH_HI-M: Downloading webpage\n",
      "[download] Destination: A busca da Andrea e da Giovanna _ Clientes Itaú-72UPlH_HI-M.m4a\n",
      "[download] 100% of 476.69KiB in 00:00                  \n"
     ]
    },
    {
     "name": "stderr",
     "output_type": "stream",
     "text": [
      "WARNING: 72UPlH_HI-M: writing DASH m4a. Only some players support this container. Install ffmpeg or avconv to fix this automatically.\n"
     ]
    },
    {
     "name": "stdout",
     "output_type": "stream",
     "text": [
      "[youtube] 7XPqolAYYfs: Downloading webpage\n",
      "[youtube] 7XPqolAYYfs: Downloading MPD manifest\n",
      "[dashsegments] Total fragments: 32\n",
      "[download] Destination: #ProgramaTravessia - Dicas de como economizar em casa-7XPqolAYYfs.m4a\n",
      "[download] 100% of 4.63MiB in 00:06                      \n"
     ]
    },
    {
     "name": "stderr",
     "output_type": "stream",
     "text": [
      "WARNING: 7XPqolAYYfs: writing DASH m4a. Only some players support this container. Install ffmpeg or avconv to fix this automatically.\n"
     ]
    },
    {
     "name": "stdout",
     "output_type": "stream",
     "text": [
      "[youtube] 8HbwjU5qKzQ: Downloading webpage\n",
      "[download] Destination: O Festival #LeiaEmCasa - Dica 'Apaixone-se pelas histórias' com Kiara Terra.-8HbwjU5qKzQ.m4a\n",
      "[download] 100% of 2.98MiB in 00:00                  \n"
     ]
    },
    {
     "name": "stderr",
     "output_type": "stream",
     "text": [
      "WARNING: 8HbwjU5qKzQ: writing DASH m4a. Only some players support this container. Install ffmpeg or avconv to fix this automatically.\n"
     ]
    },
    {
     "name": "stdout",
     "output_type": "stream",
     "text": [
      "[youtube] 8oJVhqXFr3E: Downloading webpage\n",
      "[download] Destination: Festival #LeiaemCasa 'Em cima daquela serra' de Eucanaã Ferraz, ilustrado - Yara Kono com Kiara Terra-8oJVhqXFr3E.m4a\n",
      "[download] 100% of 2.02MiB in 00:00                  \n"
     ]
    },
    {
     "name": "stderr",
     "output_type": "stream",
     "text": [
      "WARNING: 8oJVhqXFr3E: writing DASH m4a. Only some players support this container. Install ffmpeg or avconv to fix this automatically.\n"
     ]
    },
    {
     "name": "stdout",
     "output_type": "stream",
     "text": [
      "[youtube] 9_q0jiT7ngY: Downloading webpage\n",
      "[download] Destination: Empréstimo Itaú – Até 60 meses para pagar-9_q0jiT7ngY.m4a\n",
      "[download] 100% of 96.85KiB in 00:00                  \n"
     ]
    },
    {
     "name": "stderr",
     "output_type": "stream",
     "text": [
      "WARNING: 9_q0jiT7ngY: writing DASH m4a. Only some players support this container. Install ffmpeg or avconv to fix this automatically.\n"
     ]
    },
    {
     "name": "stdout",
     "output_type": "stream",
     "text": [
      "[youtube] 9c2JF76Zk-c: Downloading webpage\n",
      "[download] Destination: É hora de ficar em casa. O app Itaú tem tudo para você.-9c2JF76Zk-c.m4a\n",
      "[download] 100% of 950.12KiB in 00:00                  \n"
     ]
    },
    {
     "name": "stderr",
     "output_type": "stream",
     "text": [
      "WARNING: 9c2JF76Zk-c: writing DASH m4a. Only some players support this container. Install ffmpeg or avconv to fix this automatically.\n"
     ]
    },
    {
     "name": "stdout",
     "output_type": "stream",
     "text": [
      "[youtube] ayqxokRplTE: Downloading webpage\n",
      "[download] Destination: Investindo sem Medo - Episódio 3 - Qual investimento rende mais-ayqxokRplTE.m4a\n",
      "[download] 100% of 28.01MiB in 00:02                          \n"
     ]
    },
    {
     "name": "stderr",
     "output_type": "stream",
     "text": [
      "WARNING: ayqxokRplTE: writing DASH m4a. Only some players support this container. Install ffmpeg or avconv to fix this automatically.\n"
     ]
    },
    {
     "name": "stdout",
     "output_type": "stream",
     "text": [
      "[youtube] bDJuRMWPUMo: Downloading webpage\n",
      "[download] Destination: É hora de ficar em casa. O app Itaú tem tudo para você.-bDJuRMWPUMo.m4a\n",
      "[download] 100% of 950.12KiB in 00:00                  \n"
     ]
    },
    {
     "name": "stderr",
     "output_type": "stream",
     "text": [
      "WARNING: bDJuRMWPUMo: writing DASH m4a. Only some players support this container. Install ffmpeg or avconv to fix this automatically.\n"
     ]
    },
    {
     "name": "stdout",
     "output_type": "stream",
     "text": [
      "[youtube] BdUiyld-Zow: Downloading webpage\n",
      "[youtube] BdUiyld-Zow: Downloading MPD manifest\n",
      "[dashsegments] Total fragments: 32\n",
      "[download] Destination: #ProgramaTravessia - Dicas para gerar uma renda extra-BdUiyld-Zow.m4a\n",
      "[download] 100% of 4.63MiB in 00:05                      \n"
     ]
    },
    {
     "name": "stderr",
     "output_type": "stream",
     "text": [
      "WARNING: BdUiyld-Zow: writing DASH m4a. Only some players support this container. Install ffmpeg or avconv to fix this automatically.\n"
     ]
    },
    {
     "name": "stdout",
     "output_type": "stream",
     "text": [
      "[youtube] byg5zKJHovI: Downloading webpage\n",
      "[download] Destination: Dia dos Pais - Buscando o melhor pai do mundo-byg5zKJHovI.m4a\n",
      "[download] 100% of 951.97KiB in 00:00                  \n"
     ]
    },
    {
     "name": "stderr",
     "output_type": "stream",
     "text": [
      "WARNING: byg5zKJHovI: writing DASH m4a. Only some players support this container. Install ffmpeg or avconv to fix this automatically.\n"
     ]
    },
    {
     "name": "stdout",
     "output_type": "stream",
     "text": [
      "[youtube] C84iz0ZzNDA: Downloading webpage\n",
      "[download] Destination: A MELHOR forma de pegar EMPRÉSTIMO SEM JUROS com CARTÃO DE CRÉDITO – PicPAY e Iti Itaú-C84iz0ZzNDA.m4a\n",
      "[download] 100% of 8.36MiB in 00:00                  \n"
     ]
    },
    {
     "name": "stderr",
     "output_type": "stream",
     "text": [
      "WARNING: C84iz0ZzNDA: writing DASH m4a. Only some players support this container. Install ffmpeg or avconv to fix this automatically.\n"
     ]
    },
    {
     "name": "stdout",
     "output_type": "stream",
     "text": [
      "[youtube] CtM7pHMY4xI: Downloading webpage\n",
      "[download] Destination: Diários de Bicicleta - Jefferson-CtM7pHMY4xI.m4a\n",
      "[download] 100% of 1.28MiB in 00:00                  \n"
     ]
    },
    {
     "name": "stderr",
     "output_type": "stream",
     "text": [
      "WARNING: CtM7pHMY4xI: writing DASH m4a. Only some players support this container. Install ffmpeg or avconv to fix this automatically.\n"
     ]
    },
    {
     "name": "stdout",
     "output_type": "stream",
     "text": [
      "[youtube] DjlBgBVzJeo: Downloading webpage\n",
      "[download] Destination: Dia das Mães Itaú-DjlBgBVzJeo.m4a\n",
      "[download] 100% of 1.67MiB in 00:00                  \n"
     ]
    },
    {
     "name": "stderr",
     "output_type": "stream",
     "text": [
      "WARNING: DjlBgBVzJeo: writing DASH m4a. Only some players support this container. Install ffmpeg or avconv to fix this automatically.\n"
     ]
    },
    {
     "name": "stdout",
     "output_type": "stream",
     "text": [
      "[youtube] djMn8MC2S6g: Downloading webpage\n",
      "[download] Destination: Economia - Aula 06 - Inflação-djMn8MC2S6g.m4a\n",
      "[download] 100% of 24.90MiB in 00:02                          \n"
     ]
    },
    {
     "name": "stderr",
     "output_type": "stream",
     "text": [
      "WARNING: djMn8MC2S6g: writing DASH m4a. Only some players support this container. Install ffmpeg or avconv to fix this automatically.\n"
     ]
    },
    {
     "name": "stdout",
     "output_type": "stream",
     "text": [
      "[youtube] F7khh8olPfg: Downloading webpage\n",
      "[download] Destination: Empréstimo Itaú – Antecipe ou quite as parcelas a qualquer momento-F7khh8olPfg.m4a\n",
      "[download] 100% of 239.19KiB in 00:00                  \n"
     ]
    },
    {
     "name": "stderr",
     "output_type": "stream",
     "text": [
      "WARNING: F7khh8olPfg: writing DASH m4a. Only some players support this container. Install ffmpeg or avconv to fix this automatically.\n"
     ]
    },
    {
     "name": "stdout",
     "output_type": "stream",
     "text": [
      "[youtube] ffWW-qU96Y0: Downloading webpage\n",
      "[youtube] ffWW-qU96Y0: Downloading MPD manifest\n",
      "[dashsegments] Total fragments: 84\n",
      "[download] Destination: 🏦 A INCRÍVEL ESTRATÉGIA DE CRESCIMENTO DO ITAÚ _ Estudo de Caso do Banco Itaú-ffWW-qU96Y0.m4a\n",
      "[download] 100% of 12.70MiB in 00:23                    \n"
     ]
    },
    {
     "name": "stderr",
     "output_type": "stream",
     "text": [
      "WARNING: ffWW-qU96Y0: writing DASH m4a. Only some players support this container. Install ffmpeg or avconv to fix this automatically.\n"
     ]
    },
    {
     "name": "stdout",
     "output_type": "stream",
     "text": [
      "[youtube] FnDM14GLvMw: Downloading webpage\n",
      "[download] Destination: A busca do Walberg _ Cliente Itaú-FnDM14GLvMw.m4a\n",
      "[download] 100% of 476.46KiB in 00:00                  \n"
     ]
    },
    {
     "name": "stderr",
     "output_type": "stream",
     "text": [
      "WARNING: FnDM14GLvMw: writing DASH m4a. Only some players support this container. Install ffmpeg or avconv to fix this automatically.\n"
     ]
    },
    {
     "name": "stdout",
     "output_type": "stream",
     "text": [
      "[youtube] HaoC0qBGI74: Downloading webpage\n",
      "[download] Destination: Festival #LeiaEmCasa – “Meu amigo robô”, com Kiara Terra.-HaoC0qBGI74.m4a\n",
      "[download] 100% of 1.90MiB in 00:00                  \n"
     ]
    },
    {
     "name": "stderr",
     "output_type": "stream",
     "text": [
      "WARNING: HaoC0qBGI74: writing DASH m4a. Only some players support this container. Install ffmpeg or avconv to fix this automatically.\n"
     ]
    },
    {
     "name": "stdout",
     "output_type": "stream",
     "text": [
      "[youtube] IbBoP4he8hE: Downloading webpage\n",
      "[download] Destination: Tecnologias diruptivas no mercado financeiro - André Luis Duarte _ Vototalks Festival 2018-IbBoP4he8hE.m4a\n",
      "[download] 100% of 25.31MiB in 00:06                          \n"
     ]
    },
    {
     "name": "stderr",
     "output_type": "stream",
     "text": [
      "WARNING: IbBoP4he8hE: writing DASH m4a. Only some players support this container. Install ffmpeg or avconv to fix this automatically.\n"
     ]
    },
    {
     "name": "stdout",
     "output_type": "stream",
     "text": [
      "[youtube] IEC7eGToTGk: Downloading webpage\n",
      "[download] Destination: Festival #LeiaemCasa 'Leo e a Baleia', de Benji Davies e tradução de Marília Garcia, com Kiara Terra-IEC7eGToTGk.m4a\n",
      "[download] 100% of 1.88MiB in 00:00                  \n"
     ]
    },
    {
     "name": "stderr",
     "output_type": "stream",
     "text": [
      "WARNING: IEC7eGToTGk: writing DASH m4a. Only some players support this container. Install ffmpeg or avconv to fix this automatically.\n"
     ]
    },
    {
     "name": "stdout",
     "output_type": "stream",
     "text": [
      "[youtube] J8D5eQGeAwo: Downloading webpage\n",
      "[download] Destination: Cenário Econômico _ Boletim Focus do Banco Central estima que a inflação deve cair-J8D5eQGeAwo.m4a\n",
      "[download] 100% of 27.17MiB in 00:04                          \n"
     ]
    },
    {
     "name": "stderr",
     "output_type": "stream",
     "text": [
      "WARNING: J8D5eQGeAwo: writing DASH m4a. Only some players support this container. Install ffmpeg or avconv to fix this automatically.\n"
     ]
    },
    {
     "name": "stdout",
     "output_type": "stream",
     "text": [
      "[youtube] JqaWABoCavU: Downloading webpage\n",
      "[download] Destination: Selic-CETIP - Produtos bancários - Debêntures-CP-JqaWABoCavU.m4a\n",
      "[download] 100% of 60.72MiB in 00:05                          \n"
     ]
    },
    {
     "name": "stderr",
     "output_type": "stream",
     "text": [
      "WARNING: JqaWABoCavU: writing DASH m4a. Only some players support this container. Install ffmpeg or avconv to fix this automatically.\n"
     ]
    },
    {
     "name": "stdout",
     "output_type": "stream",
     "text": [
      "[youtube] jSoZND-Li1Q: Downloading webpage\n",
      "[download] Destination: 🔵   DÊ CALOTE NO BANCO-jSoZND-Li1Q.m4a\n",
      "[download] 100% of 16.47MiB in 00:01                          \n"
     ]
    },
    {
     "name": "stderr",
     "output_type": "stream",
     "text": [
      "WARNING: jSoZND-Li1Q: writing DASH m4a. Only some players support this container. Install ffmpeg or avconv to fix this automatically.\n"
     ]
    },
    {
     "name": "stdout",
     "output_type": "stream",
     "text": [
      "[youtube] JvXjBzgTaKg: Downloading webpage\n",
      "[download] Destination: Dia das crianças - o que você buscava ser quando era criança-JvXjBzgTaKg.m4a\n",
      "[download] 100% of 2.89MiB in 00:00                  \n"
     ]
    },
    {
     "name": "stderr",
     "output_type": "stream",
     "text": [
      "WARNING: JvXjBzgTaKg: writing DASH m4a. Only some players support this container. Install ffmpeg or avconv to fix this automatically.\n"
     ]
    },
    {
     "name": "stdout",
     "output_type": "stream",
     "text": [
      "[youtube] KT3Uu51j1xA: Downloading webpage\n",
      "[download] Destination: Cenário Econômico _ Caixa reduz juros imobiliário pela terceira vez no ano-KT3Uu51j1xA.m4a\n",
      "[download] 100% of 25.95MiB in 00:04                          \n"
     ]
    },
    {
     "name": "stderr",
     "output_type": "stream",
     "text": [
      "WARNING: KT3Uu51j1xA: writing DASH m4a. Only some players support this container. Install ffmpeg or avconv to fix this automatically.\n"
     ]
    },
    {
     "name": "stdout",
     "output_type": "stream",
     "text": [
      "[youtube] lIaKxG0mmX0: Downloading webpage\n",
      "[download] Destination: A condição do Itaú feita para ajudar o Silvano e milhares de correntistas.-lIaKxG0mmX0.m4a\n",
      "[download] 100% of 476.42KiB in 00:00                  \n"
     ]
    },
    {
     "name": "stderr",
     "output_type": "stream",
     "text": [
      "WARNING: lIaKxG0mmX0: writing DASH m4a. Only some players support this container. Install ffmpeg or avconv to fix this automatically.\n"
     ]
    },
    {
     "name": "stdout",
     "output_type": "stream",
     "text": [
      "[youtube] Lp50jumXygg: Downloading webpage\n",
      "[download] Destination: TV Vida Real _ Mão de Vaca Show – Episódio 3-Lp50jumXygg.m4a\n",
      "[download] 100% of 1.58MiB in 00:00                  \n"
     ]
    },
    {
     "name": "stderr",
     "output_type": "stream",
     "text": [
      "WARNING: Lp50jumXygg: writing DASH m4a. Only some players support this container. Install ffmpeg or avconv to fix this automatically.\n"
     ]
    },
    {
     "name": "stdout",
     "output_type": "stream",
     "text": [
      "[youtube] LWja-aYK5wU: Downloading webpage\n",
      "[download] Destination: Itaú Empresas - Conheça os benefícios de emitir boletos pelo Itaú-LWja-aYK5wU.m4a\n",
      "[download] 100% of 963.63KiB in 00:00                  \n"
     ]
    },
    {
     "name": "stderr",
     "output_type": "stream",
     "text": [
      "WARNING: LWja-aYK5wU: writing DASH m4a. Only some players support this container. Install ffmpeg or avconv to fix this automatically.\n"
     ]
    },
    {
     "name": "stdout",
     "output_type": "stream",
     "text": [
      "[youtube] msAqTEbEPP4: Downloading webpage\n",
      "[youtube] msAqTEbEPP4: Downloading MPD manifest\n",
      "[dashsegments] Total fragments: 177\n",
      "[download] Destination: Pix - por dentro do PAGAMENTO INSTANTÂNEO 📲 _ Roda de Conversa-msAqTEbEPP4.m4a\n",
      "[download] 100% of 26.97MiB in 00:21                      \n"
     ]
    },
    {
     "name": "stderr",
     "output_type": "stream",
     "text": [
      "WARNING: msAqTEbEPP4: writing DASH m4a. Only some players support this container. Install ffmpeg or avconv to fix this automatically.\n"
     ]
    },
    {
     "name": "stdout",
     "output_type": "stream",
     "text": [
      "[youtube] MZH5gedZU8U: Downloading webpage\n",
      "[download] Destination: JKCast#25 Cupom das NTN’s, Que moeda substituirá o DÓLAR BANCO CENTRAL Dívida Privada-MZH5gedZU8U.m4a\n",
      "[download] 100% of 40.37MiB in 00:02                          \n"
     ]
    },
    {
     "name": "stderr",
     "output_type": "stream",
     "text": [
      "WARNING: MZH5gedZU8U: writing DASH m4a. Only some players support this container. Install ffmpeg or avconv to fix this automatically.\n"
     ]
    },
    {
     "name": "stdout",
     "output_type": "stream",
     "text": [
      "[youtube] nX0o5rKJLj0: Downloading webpage\n",
      "[download] Destination: O Todos pela Saúde completou o seu terceiro mês e o Itaú Unibanco vem a público prestar contas-nX0o5rKJLj0.m4a\n",
      "[download] 100% of 951.61KiB in 00:00                          \n"
     ]
    },
    {
     "name": "stderr",
     "output_type": "stream",
     "text": [
      "WARNING: nX0o5rKJLj0: writing DASH m4a. Only some players support this container. Install ffmpeg or avconv to fix this automatically.\n"
     ]
    },
    {
     "name": "stdout",
     "output_type": "stream",
     "text": [
      "[youtube] OAMX3maxsSM: Downloading webpage\n",
      "[youtube] OAMX3maxsSM: Downloading MPD manifest\n",
      "[dashsegments] Total fragments: 11\n",
      "[download] Destination: Folha de Pagamentos - Benefícios para seus colaboradores-OAMX3maxsSM.m4a\n",
      "[download] 100% of 1.41MiB in 00:00                       \n"
     ]
    },
    {
     "name": "stderr",
     "output_type": "stream",
     "text": [
      "WARNING: OAMX3maxsSM: writing DASH m4a. Only some players support this container. Install ffmpeg or avconv to fix this automatically.\n"
     ]
    },
    {
     "name": "stdout",
     "output_type": "stream",
     "text": [
      "[youtube] OPFMBcoJmxk: Downloading webpage\n",
      "[download] Destination: CUIDADO!!! GOLPES NO CARTÃO DE CRÉDITO E NO BOLETO PODEM TIRAR TODO O SEU DINHEIRO!!!-OPFMBcoJmxk.m4a\n",
      "[download] 100% of 16.57MiB in 00:01                          \n"
     ]
    },
    {
     "name": "stderr",
     "output_type": "stream",
     "text": [
      "WARNING: OPFMBcoJmxk: writing DASH m4a. Only some players support this container. Install ffmpeg or avconv to fix this automatically.\n"
     ]
    },
    {
     "name": "stdout",
     "output_type": "stream",
     "text": [
      "[youtube] ORXCoTj-0Ik: Downloading webpage\n",
      "[youtube] ORXCoTj-0Ik: Downloading MPD manifest\n",
      "[dashsegments] Total fragments: 12\n",
      "[download] Destination: Itaú Empresas - O Protesto de Cobrança agora é digital.-ORXCoTj-0Ik.m4a\n",
      "[download] 100% of 1.55MiB in 00:00                       \n"
     ]
    },
    {
     "name": "stderr",
     "output_type": "stream",
     "text": [
      "WARNING: ORXCoTj-0Ik: writing DASH m4a. Only some players support this container. Install ffmpeg or avconv to fix this automatically.\n"
     ]
    },
    {
     "name": "stdout",
     "output_type": "stream",
     "text": [
      "[youtube] OWCaNb9GPp0: Downloading webpage\n",
      "[download] Destination: A busca da Regina _ Cliente Itaú-OWCaNb9GPp0.m4a\n",
      "[download] 100% of 476.57KiB in 00:00                          \n"
     ]
    },
    {
     "name": "stderr",
     "output_type": "stream",
     "text": [
      "WARNING: OWCaNb9GPp0: writing DASH m4a. Only some players support this container. Install ffmpeg or avconv to fix this automatically.\n"
     ]
    },
    {
     "name": "stdout",
     "output_type": "stream",
     "text": [
      "[youtube] pCyFdWr4R2U: Downloading webpage\n",
      "[download] Destination: Empréstimo Itaú – Até 90 dias para começar a pagar-pCyFdWr4R2U.m4a\n",
      "[download] 100% of 96.81KiB in 00:00                          \n"
     ]
    },
    {
     "name": "stderr",
     "output_type": "stream",
     "text": [
      "WARNING: pCyFdWr4R2U: writing DASH m4a. Only some players support this container. Install ffmpeg or avconv to fix this automatically.\n"
     ]
    },
    {
     "name": "stdout",
     "output_type": "stream",
     "text": [
      "[youtube] PGCen2cbI6Q: Downloading webpage\n",
      "[download] Destination: Empréstimo Itaú - Boletos do começo de ano-PGCen2cbI6Q.m4a\n",
      "[download] 100% of 476.82KiB in 00:00                          \n"
     ]
    },
    {
     "name": "stderr",
     "output_type": "stream",
     "text": [
      "WARNING: PGCen2cbI6Q: writing DASH m4a. Only some players support this container. Install ffmpeg or avconv to fix this automatically.\n"
     ]
    },
    {
     "name": "stdout",
     "output_type": "stream",
     "text": [
      "[youtube] Qy6d86_p7A8: Downloading webpage\n",
      "[download] Destination: Atrasei a FATURA do CARTÃO de CRÉDITO! E agora, quanto vou PAGAR! (É PIOR DO QUE VOCÊ IMAGINA)-Qy6d86_p7A8.m4a\n",
      "[download] 100% of 6.35MiB in 00:00                          \n"
     ]
    },
    {
     "name": "stderr",
     "output_type": "stream",
     "text": [
      "WARNING: Qy6d86_p7A8: writing DASH m4a. Only some players support this container. Install ffmpeg or avconv to fix this automatically.\n"
     ]
    },
    {
     "name": "stdout",
     "output_type": "stream",
     "text": [
      "[youtube] rNp5IipBONI: Downloading webpage\n",
      "[youtube] rNp5IipBONI: Downloading MPD manifest\n",
      "[dashsegments] Total fragments: 11\n",
      "[download] Destination: Veja como encontrar o valor do Auxílio Emergencial no app Itaú-rNp5IipBONI.m4a\n",
      "[download] 100% of 1.44MiB in 00:00                       \n"
     ]
    },
    {
     "name": "stderr",
     "output_type": "stream",
     "text": [
      "WARNING: rNp5IipBONI: writing DASH m4a. Only some players support this container. Install ffmpeg or avconv to fix this automatically.\n"
     ]
    },
    {
     "name": "stdout",
     "output_type": "stream",
     "text": [
      "[youtube] RXbv3t-JU34: Downloading webpage\n",
      "[download] Destination: Cenário Econômico _ Após corte da Selic, bancos anunciam queda nas taxas-RXbv3t-JU34.m4a\n",
      "[download] 100% of 26.67MiB in 00:04                          \n"
     ]
    },
    {
     "name": "stderr",
     "output_type": "stream",
     "text": [
      "WARNING: RXbv3t-JU34: writing DASH m4a. Only some players support this container. Install ffmpeg or avconv to fix this automatically.\n"
     ]
    },
    {
     "name": "stdout",
     "output_type": "stream",
     "text": [
      "[youtube] sgsoCqk1Idc: Downloading webpage\n",
      "[download] Destination: A busca da Sol _ Cliente Itaú-sgsoCqk1Idc.m4a\n",
      "[download] 100% of 476.40KiB in 00:00                          \n"
     ]
    },
    {
     "name": "stderr",
     "output_type": "stream",
     "text": [
      "WARNING: sgsoCqk1Idc: writing DASH m4a. Only some players support this container. Install ffmpeg or avconv to fix this automatically.\n"
     ]
    },
    {
     "name": "stdout",
     "output_type": "stream",
     "text": [
      "[youtube] sqBGeInWo-M: Downloading webpage\n",
      "[download] Destination: Festival #LeiaemCasa 'O tupi que você fala', de Claudio Fragata, com Kiara Terra.-sqBGeInWo-M.m4a\n",
      "[download] 100% of 1.27MiB in 00:00                          \n"
     ]
    },
    {
     "name": "stderr",
     "output_type": "stream",
     "text": [
      "WARNING: sqBGeInWo-M: writing DASH m4a. Only some players support this container. Install ffmpeg or avconv to fix this automatically.\n"
     ]
    },
    {
     "name": "stdout",
     "output_type": "stream",
     "text": [
      "[youtube] Te5oTb6v28o: Downloading webpage\n",
      "[download] Destination: JKCast#31 ETF e fundo passivo de ações, QUEDA DO DOLAR Relação JUROS E INFLAÇÃO, WACC, ROE, ROIC..-Te5oTb6v28o.m4a\n",
      "[download] 100% of 43.01MiB in 00:02                          \n"
     ]
    },
    {
     "name": "stderr",
     "output_type": "stream",
     "text": [
      "WARNING: Te5oTb6v28o: writing DASH m4a. Only some players support this container. Install ffmpeg or avconv to fix this automatically.\n"
     ]
    },
    {
     "name": "stdout",
     "output_type": "stream",
     "text": [
      "[youtube] tI2wW2ir-EA: Downloading webpage\n",
      "[download] Destination: Festival #LeiaEmCasa – “Malala, a menina que queria ir para a escola”, com Kiara Terra.-tI2wW2ir-EA.m4a\n",
      "[download] 100% of 2.53MiB in 00:00                          \n"
     ]
    },
    {
     "name": "stderr",
     "output_type": "stream",
     "text": [
      "WARNING: tI2wW2ir-EA: writing DASH m4a. Only some players support this container. Install ffmpeg or avconv to fix this automatically.\n"
     ]
    },
    {
     "name": "stdout",
     "output_type": "stream",
     "text": [
      "[youtube] tIUKAkfe0c8: Downloading webpage\n",
      "[download] Destination: ❓ Por que ele NÃO investiria nas AÇÕES do ITAÚ (ITUB4), BRADESCO (BBDC4) e BANCO INTER (BIDI4)-tIUKAkfe0c8.m4a\n",
      "[download] 100% of 19.16MiB in 00:03                          \n"
     ]
    },
    {
     "name": "stderr",
     "output_type": "stream",
     "text": [
      "WARNING: tIUKAkfe0c8: writing DASH m4a. Only some players support this container. Install ffmpeg or avconv to fix this automatically.\n"
     ]
    },
    {
     "name": "stdout",
     "output_type": "stream",
     "text": [
      "[youtube] trMfmkwNL0c: Downloading webpage\n",
      "[download] Destination: Semana do Cliente - É por você que buscamos evoluir sempre-trMfmkwNL0c.m4a\n",
      "[download] 100% of 1.86MiB in 00:00                          \n"
     ]
    },
    {
     "name": "stderr",
     "output_type": "stream",
     "text": [
      "WARNING: trMfmkwNL0c: writing DASH m4a. Only some players support this container. Install ffmpeg or avconv to fix this automatically.\n"
     ]
    },
    {
     "name": "stdout",
     "output_type": "stream",
     "text": [
      "[youtube] twOPe8UdvBI: Downloading webpage\n",
      "[download] Destination: Empréstimo Itaú – Seu dinheiro cai na conta mesmo no fim de semana-twOPe8UdvBI.m4a\n",
      "[download] 100% of 238.99KiB in 00:00                          \n"
     ]
    },
    {
     "name": "stderr",
     "output_type": "stream",
     "text": [
      "WARNING: twOPe8UdvBI: writing DASH m4a. Only some players support this container. Install ffmpeg or avconv to fix this automatically.\n"
     ]
    },
    {
     "name": "stdout",
     "output_type": "stream",
     "text": [
      "[youtube] UEvQdM4DuDs: Downloading webpage\n",
      "[download] Destination: Como negociar dívidas com bancos - Serasa Ensina-UEvQdM4DuDs.m4a\n",
      "[download] 100% of 5.53MiB in 00:00                  \n"
     ]
    },
    {
     "name": "stderr",
     "output_type": "stream",
     "text": [
      "WARNING: UEvQdM4DuDs: writing DASH m4a. Only some players support this container. Install ffmpeg or avconv to fix this automatically.\n"
     ]
    },
    {
     "name": "stdout",
     "output_type": "stream",
     "text": [
      "[youtube] UfQ0_La0udc: Downloading webpage\n",
      "[youtube] UfQ0_La0udc: Downloading MPD manifest\n",
      "[dashsegments] Total fragments: 31\n",
      "[download] Destination: #ProgramaTravessia - Dicas sobre como proteger o caixa da sua empresa-UfQ0_La0udc.m4a\n",
      "[download] 100% of 4.52MiB in 00:01                      \n"
     ]
    },
    {
     "name": "stderr",
     "output_type": "stream",
     "text": [
      "WARNING: UfQ0_La0udc: writing DASH m4a. Only some players support this container. Install ffmpeg or avconv to fix this automatically.\n"
     ]
    },
    {
     "name": "stdout",
     "output_type": "stream",
     "text": [
      "[youtube] UiiS6AS7mPs: Downloading webpage\n",
      "[download] Destination: Espetáculo “Malala, a menina que queria ir para a escola”-UiiS6AS7mPs.m4a\n",
      "[download] 100% of 45.98MiB in 00:01                          \n"
     ]
    },
    {
     "name": "stderr",
     "output_type": "stream",
     "text": [
      "WARNING: UiiS6AS7mPs: writing DASH m4a. Only some players support this container. Install ffmpeg or avconv to fix this automatically.\n"
     ]
    },
    {
     "name": "stdout",
     "output_type": "stream",
     "text": [
      "[youtube] uSd_h5Tz2Eg: Downloading webpage\n",
      "[download] Destination: Como a Jeyce, com três empregos e dois filhos, se organizou para atravessar este momento.-uSd_h5Tz2Eg.m4a\n",
      "[download] 100% of 952.34KiB in 00:00                          \n"
     ]
    },
    {
     "name": "stderr",
     "output_type": "stream",
     "text": [
      "WARNING: uSd_h5Tz2Eg: writing DASH m4a. Only some players support this container. Install ffmpeg or avconv to fix this automatically.\n"
     ]
    },
    {
     "name": "stdout",
     "output_type": "stream",
     "text": [
      "[youtube] V7ZkzTirCR4: Downloading webpage\n",
      "[download] Destination: Itaucard – Conheça mais sobre o parcelamento de fatura-V7ZkzTirCR4.m4a\n",
      "[download] 100% of 1.23MiB in 00:03                          \n"
     ]
    },
    {
     "name": "stderr",
     "output_type": "stream",
     "text": [
      "WARNING: V7ZkzTirCR4: writing DASH m4a. Only some players support this container. Install ffmpeg or avconv to fix this automatically.\n"
     ]
    },
    {
     "name": "stdout",
     "output_type": "stream",
     "text": [
      "[youtube] VbaWNJYElJs: Downloading webpage\n",
      "[download] Destination: Cenário Econômico _  Bancos não repassam aos clientes a queda da Selic-VbaWNJYElJs.m4a\n",
      "[download] 100% of 27.02MiB in 00:05                          \n"
     ]
    },
    {
     "name": "stderr",
     "output_type": "stream",
     "text": [
      "WARNING: VbaWNJYElJs: writing DASH m4a. Only some players support this container. Install ffmpeg or avconv to fix this automatically.\n"
     ]
    },
    {
     "name": "stdout",
     "output_type": "stream",
     "text": [
      "[youtube] wzbjdFnRw5I: Downloading webpage\n",
      "[youtube] wzbjdFnRw5I: Downloading MPD manifest\n",
      "[dashsegments] Total fragments: 7\n",
      "[download] Destination: Euro e Dólar em espécie Compre direto no app Itaú-wzbjdFnRw5I.m4a\n",
      "[download] 100% of 913.62KiB in 00:00                     \n"
     ]
    },
    {
     "name": "stderr",
     "output_type": "stream",
     "text": [
      "WARNING: wzbjdFnRw5I: writing DASH m4a. Only some players support this container. Install ffmpeg or avconv to fix this automatically.\n"
     ]
    },
    {
     "name": "stdout",
     "output_type": "stream",
     "text": [
      "[youtube] WZQ2SExykIY: Downloading webpage\n",
      "[youtube] WZQ2SExykIY: Downloading MPD manifest\n",
      "[dashsegments] Total fragments: 8\n",
      "[download] Destination: É nessas horas que seu banco mostra que é feito pra você.-WZQ2SExykIY.m4a\n",
      "[download] 100% of 951.11KiB in 00:00                   \n"
     ]
    },
    {
     "name": "stderr",
     "output_type": "stream",
     "text": [
      "WARNING: WZQ2SExykIY: writing DASH m4a. Only some players support this container. Install ffmpeg or avconv to fix this automatically.\n"
     ]
    },
    {
     "name": "stdout",
     "output_type": "stream",
     "text": [
      "[youtube] xewoEkQVupI: Downloading webpage\n",
      "[youtube] xewoEkQVupI: Downloading MPD manifest\n",
      "[dashsegments] Total fragments: 21\n",
      "[download] Destination: Sustentabilidade - 8 compromissos-xewoEkQVupI.m4a\n",
      "[download] 100% of 2.96MiB in 00:01                   \n"
     ]
    },
    {
     "name": "stderr",
     "output_type": "stream",
     "text": [
      "WARNING: xewoEkQVupI: writing DASH m4a. Only some players support this container. Install ffmpeg or avconv to fix this automatically.\n"
     ]
    },
    {
     "name": "stdout",
     "output_type": "stream",
     "text": [
      "[youtube] xRZqRQ1ma30: Downloading webpage\n",
      "[download] Destination: Itaú Personnalité Investimentos-xRZqRQ1ma30.m4a\n",
      "[download] 100% of 476.49KiB in 00:00                  \n"
     ]
    },
    {
     "name": "stderr",
     "output_type": "stream",
     "text": [
      "WARNING: xRZqRQ1ma30: writing DASH m4a. Only some players support this container. Install ffmpeg or avconv to fix this automatically.\n"
     ]
    },
    {
     "name": "stdout",
     "output_type": "stream",
     "text": [
      "[youtube] Xtz4bmlHdfQ: Downloading webpage\n",
      "[download] Destination: Diários de Bicicleta - Aline-Xtz4bmlHdfQ.m4a\n",
      "[download] 100% of 1.31MiB in 00:00                          \n"
     ]
    },
    {
     "name": "stderr",
     "output_type": "stream",
     "text": [
      "WARNING: Xtz4bmlHdfQ: writing DASH m4a. Only some players support this container. Install ffmpeg or avconv to fix this automatically.\n"
     ]
    },
    {
     "name": "stdout",
     "output_type": "stream",
     "text": [
      "[youtube] XYh1sZCSngY: Downloading webpage\n",
      "[download] Destination: Empréstimo Itaú – Dinheiro cai na hora sem precisar justificar o motivo-XYh1sZCSngY.m4a\n",
      "[download] 100% of 238.88KiB in 00:00                          \n"
     ]
    },
    {
     "name": "stderr",
     "output_type": "stream",
     "text": [
      "WARNING: XYh1sZCSngY: writing DASH m4a. Only some players support this container. Install ffmpeg or avconv to fix this automatically.\n"
     ]
    },
    {
     "name": "stdout",
     "output_type": "stream",
     "text": [
      "[youtube] YePLmtfaUe4: Downloading webpage\n",
      "[download] Destination: Empréstimo Itaú - Contrate pelo app-YePLmtfaUe4.m4a\n",
      "[download] 100% of 525.18KiB in 00:00                          \n"
     ]
    },
    {
     "name": "stderr",
     "output_type": "stream",
     "text": [
      "WARNING: YePLmtfaUe4: writing DASH m4a. Only some players support this container. Install ffmpeg or avconv to fix this automatically.\n"
     ]
    },
    {
     "name": "stdout",
     "output_type": "stream",
     "text": [
      "[youtube] YhKwEFIdXbg: Downloading webpage\n",
      "[youtube] YhKwEFIdXbg: Downloading MPD manifest\n",
      "[dashsegments] Total fragments: 3\n",
      "[download] Destination: Empréstimo Itaú – Transfira o limite do cartão de crédito e do cheque especial-YhKwEFIdXbg.m4a\n",
      "[download] 100% of 239.17KiB in 00:00                   \n"
     ]
    },
    {
     "name": "stderr",
     "output_type": "stream",
     "text": [
      "WARNING: YhKwEFIdXbg: writing DASH m4a. Only some players support this container. Install ffmpeg or avconv to fix this automatically.\n"
     ]
    },
    {
     "name": "stdout",
     "output_type": "stream",
     "text": [
      "[youtube] ZFDflpXuiUA: Downloading webpage\n",
      "[download] Destination: Itaú. Por um futuro cada vez mais humano.-ZFDflpXuiUA.m4a\n",
      "[download] 100% of 1.86MiB in 00:00                          \n"
     ]
    },
    {
     "name": "stderr",
     "output_type": "stream",
     "text": [
      "WARNING: ZFDflpXuiUA: writing DASH m4a. Only some players support this container. Install ffmpeg or avconv to fix this automatically.\n"
     ]
    },
    {
     "name": "stdout",
     "output_type": "stream",
     "text": [
      "[youtube] zfQWNWgHyPI: Downloading webpage\n",
      "[download] Destination: Como o Rodrigo, dono de uma concessionária, conseguiu um fôlego pra atravessar este momento.-zfQWNWgHyPI.m4a\n",
      "[download] 100% of 953.07KiB in 00:00                          \n"
     ]
    },
    {
     "name": "stderr",
     "output_type": "stream",
     "text": [
      "WARNING: zfQWNWgHyPI: writing DASH m4a. Only some players support this container. Install ffmpeg or avconv to fix this automatically.\n"
     ]
    },
    {
     "name": "stdout",
     "output_type": "stream",
     "text": [
      "[youtube] zpHmV1hXaaA: Downloading webpage\n",
      "[download] Destination: A maior crise financeira global está por vir-zpHmV1hXaaA.m4a\n",
      "[download] 100% of 47.48MiB in 00:01                          \n"
     ]
    },
    {
     "name": "stderr",
     "output_type": "stream",
     "text": [
      "WARNING: zpHmV1hXaaA: writing DASH m4a. Only some players support this container. Install ffmpeg or avconv to fix this automatically.\n"
     ]
    },
    {
     "name": "stdout",
     "output_type": "stream",
     "text": [
      "[youtube] ZyU4aRPGZKw: Downloading webpage\n",
      "[download] Destination: Itaú Personnalité – Nosso especialista explica-ZyU4aRPGZKw.m4a\n",
      "[download] 100% of 476.48KiB in 00:00                  \n"
     ]
    },
    {
     "name": "stderr",
     "output_type": "stream",
     "text": [
      "WARNING: ZyU4aRPGZKw: writing DASH m4a. Only some players support this container. Install ffmpeg or avconv to fix this automatically.\n"
     ]
    },
    {
     "name": "stdout",
     "output_type": "stream",
     "text": [
      "[youtube] H8CdN1iQe5k: Downloading webpage\n",
      "[download] Destination: 3 MÁQUINAS DE CARTÃO com as MENORES TAXAS em 2020-H8CdN1iQe5k.m4a\n",
      "[download] 100% of 10.22MiB in 00:00                          \n"
     ]
    },
    {
     "name": "stderr",
     "output_type": "stream",
     "text": [
      "WARNING: H8CdN1iQe5k: writing DASH m4a. Only some players support this container. Install ffmpeg or avconv to fix this automatically.\n"
     ]
    },
    {
     "name": "stdout",
     "output_type": "stream",
     "text": [
      "[youtube] oxlUhUvfM5k: Downloading webpage\n",
      "[download] Destination: COMO NÃO PAGAR TARIFAS BANCÁRIAS NA CONTA CORRENTE (Em qualquer Banco) _ NATH ENSINA-oxlUhUvfM5k.m4a\n",
      "[download] 100% of 2.96MiB in 00:00                          \n"
     ]
    },
    {
     "name": "stderr",
     "output_type": "stream",
     "text": [
      "WARNING: oxlUhUvfM5k: writing DASH m4a. Only some players support this container. Install ffmpeg or avconv to fix this automatically.\n"
     ]
    },
    {
     "name": "stdout",
     "output_type": "stream",
     "text": [
      "[youtube] Nue8EaC2l0o: Downloading webpage\n",
      "[youtube] Nue8EaC2l0o: Downloading MPD manifest\n",
      "[dashsegments] Total fragments: 203\n",
      "[download] Destination: GESTÃO EMPRESARIAL EM RISCO CONHEÇA O PERIGO DA AUSÊNCIA DE DADOS NO CONTROLE FINANCEIRO - [SMN #6]-Nue8EaC2l0o.m4a\n",
      "[download] 100% of 31.02MiB in 00:21                        \n"
     ]
    },
    {
     "name": "stderr",
     "output_type": "stream",
     "text": [
      "WARNING: Nue8EaC2l0o: writing DASH m4a. Only some players support this container. Install ffmpeg or avconv to fix this automatically.\n"
     ]
    },
    {
     "name": "stdout",
     "output_type": "stream",
     "text": [
      "[youtube] ByiNh1qmM14: Downloading webpage\n",
      "[download] Destination: Cheque Especial - Como funciona Juros Vale a pena - Serasa Ensina-ByiNh1qmM14.m4a\n",
      "[download] 100% of 5.08MiB in 00:00                          \n"
     ]
    },
    {
     "name": "stderr",
     "output_type": "stream",
     "text": [
      "WARNING: ByiNh1qmM14: writing DASH m4a. Only some players support this container. Install ffmpeg or avconv to fix this automatically.\n"
     ]
    },
    {
     "name": "stdout",
     "output_type": "stream",
     "text": [
      "[youtube] esW8pH-Dv_E: Downloading webpage\n",
      "[download] Destination: Cheque especial, como funciona-esW8pH-Dv_E.m4a\n",
      "[download] 100% of 3.57MiB in 00:00                          \n"
     ]
    },
    {
     "name": "stderr",
     "output_type": "stream",
     "text": [
      "WARNING: esW8pH-Dv_E: writing DASH m4a. Only some players support this container. Install ffmpeg or avconv to fix this automatically.\n"
     ]
    },
    {
     "name": "stdout",
     "output_type": "stream",
     "text": [
      "[youtube] bN0i6RTWocM: Downloading webpage\n",
      "[download] Destination: NÃO CAIA NESSA! A mudança no CHEQUE ESPECIAL!-bN0i6RTWocM.m4a\n",
      "[download] 100% of 6.15MiB in 00:00                          \n"
     ]
    },
    {
     "name": "stderr",
     "output_type": "stream",
     "text": [
      "WARNING: bN0i6RTWocM: writing DASH m4a. Only some players support this container. Install ffmpeg or avconv to fix this automatically.\n"
     ]
    },
    {
     "name": "stdout",
     "output_type": "stream",
     "text": [
      "[youtube] _ZUmbofMyYA: Downloading webpage\n",
      "[youtube] _ZUmbofMyYA: Downloading MPD manifest\n",
      "[dashsegments] Total fragments: 100\n",
      "[download] Destination: 🔺 Como Pagar Dívidas do Cheque Especial  _  DÍVIDA ZERO CARLOS GALVÃO-_ZUmbofMyYA.m4a\n",
      "[download] 100% of 7.44MiB in 00:03                   \n"
     ]
    },
    {
     "name": "stderr",
     "output_type": "stream",
     "text": [
      "WARNING: _ZUmbofMyYA: writing DASH m4a. Only some players support this container. Install ffmpeg or avconv to fix this automatically.\n"
     ]
    },
    {
     "name": "stdout",
     "output_type": "stream",
     "text": [
      "[youtube] MqbhXqcOG-o: Downloading webpage\n",
      "[youtube] MqbhXqcOG-o: Downloading MPD manifest\n",
      "[dashsegments] Total fragments: 104\n",
      "[download] Destination: Como sair do Cheque Especial - Série Saindo do Buraco Dívidas ep #3-MqbhXqcOG-o.m4a\n",
      "[download] 100% of 7.75MiB in 00:08                      \n"
     ]
    },
    {
     "name": "stderr",
     "output_type": "stream",
     "text": [
      "WARNING: MqbhXqcOG-o: writing DASH m4a. Only some players support this container. Install ffmpeg or avconv to fix this automatically.\n"
     ]
    },
    {
     "name": "stdout",
     "output_type": "stream",
     "text": [
      "[youtube] 7Ybo87zi0vs: Downloading webpage\n",
      "[download] Destination: CHEQUE ESPECIAL - NOVAS REGRAS! AGORA VALE A PENA-7Ybo87zi0vs.m4a\n",
      "[download] 100% of 6.70MiB in 00:01                          \n"
     ]
    },
    {
     "name": "stderr",
     "output_type": "stream",
     "text": [
      "WARNING: 7Ybo87zi0vs: writing DASH m4a. Only some players support this container. Install ffmpeg or avconv to fix this automatically.\n"
     ]
    },
    {
     "name": "stdout",
     "output_type": "stream",
     "text": [
      "[youtube] wY7AKCuPMZk: Downloading webpage\n",
      "[download] Destination: ❌ 5 ERROS FINANCEIROS por ANDRÉ BONA - AÇÕES, CARTÃO DE CRÉDITO, CHEQUE ESPECIAL E EMPRÉSTIMOS ❌-wY7AKCuPMZk.m4a\n",
      "[download] 100% of 15.63MiB in 00:02                          \n"
     ]
    },
    {
     "name": "stderr",
     "output_type": "stream",
     "text": [
      "WARNING: wY7AKCuPMZk: writing DASH m4a. Only some players support this container. Install ffmpeg or avconv to fix this automatically.\n"
     ]
    },
    {
     "name": "stdout",
     "output_type": "stream",
     "text": [
      "[youtube] IDtPQIuidCs: Downloading webpage\n",
      "[download] Destination: Cartão Santander Free é bom Tem anuidade SABIA TUDO AQUI-IDtPQIuidCs.m4a\n",
      "[download] 100% of 4.95MiB in 00:00                          \n"
     ]
    },
    {
     "name": "stderr",
     "output_type": "stream",
     "text": [
      "WARNING: IDtPQIuidCs: writing DASH m4a. Only some players support this container. Install ffmpeg or avconv to fix this automatically.\n"
     ]
    },
    {
     "name": "stdout",
     "output_type": "stream",
     "text": [
      "[youtube] 6nQONx4LrhI: Downloading webpage\n",
      "[download] Destination: Taxa única da Getnet + Dúvidas sobre as máquinas de cartão [SuperGet]-6nQONx4LrhI.m4a\n",
      "[download] 100% of 5.90MiB in 00:00                  \n"
     ]
    },
    {
     "name": "stderr",
     "output_type": "stream",
     "text": [
      "WARNING: 6nQONx4LrhI: writing DASH m4a. Only some players support this container. Install ffmpeg or avconv to fix this automatically.\n"
     ]
    },
    {
     "name": "stdout",
     "output_type": "stream",
     "text": [
      "[youtube] C9_w4agHkrs: Downloading webpage\n",
      "[download] Destination: TARIFA BANCARIA - Como não pagar tarifa bancária - Eli dos Anjos-C9_w4agHkrs.m4a\n",
      "[download] 100% of 2.88MiB in 00:00                          \n"
     ]
    },
    {
     "name": "stderr",
     "output_type": "stream",
     "text": [
      "WARNING: C9_w4agHkrs: writing DASH m4a. Only some players support this container. Install ffmpeg or avconv to fix this automatically.\n"
     ]
    },
    {
     "name": "stdout",
     "output_type": "stream",
     "text": [
      "[youtube] Yr850V7Losw: Downloading webpage\n",
      "[download] Destination: Como pagar menos tarifas na conta de pessoa jurídica-Yr850V7Losw.m4a\n",
      "[download] 100% of 3.43MiB in 00:00                          \n"
     ]
    },
    {
     "name": "stderr",
     "output_type": "stream",
     "text": [
      "WARNING: Yr850V7Losw: writing DASH m4a. Only some players support this container. Install ffmpeg or avconv to fix this automatically.\n"
     ]
    },
    {
     "name": "stdout",
     "output_type": "stream",
     "text": [
      "[youtube] wFRNo4chEPY: Downloading webpage\n",
      "[download] Destination: Maxi Conta Itaú - Tarifas Bancárias - Serviços Essenciais @CanalDoOtario-wFRNo4chEPY.m4a\n",
      "[download] 100% of 4.46MiB in 00:00                  \n"
     ]
    },
    {
     "name": "stderr",
     "output_type": "stream",
     "text": [
      "WARNING: wFRNo4chEPY: writing DASH m4a. Only some players support this container. Install ffmpeg or avconv to fix this automatically.\n"
     ]
    },
    {
     "name": "stdout",
     "output_type": "stream",
     "text": [
      "[youtube] ZxyJy7RN1sM: Downloading webpage\n",
      "[download] Destination: Dívidas bem escolhidas são como bons investimentos-ZxyJy7RN1sM.m4a\n",
      "[download] 100% of 8.58MiB in 00:00                  \n"
     ]
    },
    {
     "name": "stderr",
     "output_type": "stream",
     "text": [
      "WARNING: ZxyJy7RN1sM: writing DASH m4a. Only some players support this container. Install ffmpeg or avconv to fix this automatically.\n"
     ]
    },
    {
     "name": "stdout",
     "output_type": "stream",
     "text": [
      "[youtube] 4NVgDC3-YLo: Downloading webpage\n",
      "[download] Destination: Faça como o Bernardinho, abra sua conta e invista no modalmais, o banco digital dos investidores!-4NVgDC3-YLo.m4a\n",
      "[download] 100% of 448.95KiB in 00:00                          \n"
     ]
    },
    {
     "name": "stderr",
     "output_type": "stream",
     "text": [
      "WARNING: 4NVgDC3-YLo: writing DASH m4a. Only some players support this container. Install ffmpeg or avconv to fix this automatically.\n"
     ]
    },
    {
     "name": "stdout",
     "output_type": "stream",
     "text": [
      "[youtube] t_7NVaDwV3U: Downloading webpage\n",
      "[download] Destination: Tudo o que você precisa saber sobre a Conta Rendeira do PagBank!-t_7NVaDwV3U.m4a\n",
      "[download] 100% of 1.62MiB in 00:00                  \n"
     ]
    },
    {
     "name": "stderr",
     "output_type": "stream",
     "text": [
      "WARNING: t_7NVaDwV3U: writing DASH m4a. Only some players support this container. Install ffmpeg or avconv to fix this automatically.\n"
     ]
    },
    {
     "name": "stdout",
     "output_type": "stream",
     "text": [
      "[youtube] pY7ZWjZjl3k: Downloading webpage\n",
      "[download] Destination: 7 MELHORES Máquinas de Cartão de Crédito para PESSOA FÍSICA-pY7ZWjZjl3k.m4a\n",
      "[download] 100% of 12.63MiB in 00:00                          \n"
     ]
    },
    {
     "name": "stderr",
     "output_type": "stream",
     "text": [
      "WARNING: pY7ZWjZjl3k: writing DASH m4a. Only some players support this container. Install ffmpeg or avconv to fix this automatically.\n"
     ]
    },
    {
     "name": "stdout",
     "output_type": "stream",
     "text": [
      "[youtube] pu5wmb8LHa8: Downloading webpage\n",
      "[download] Destination: Qual a MELHOR MÁQUINA DE CARTÃO para MEI em 2020 [MICROEMPREENDEDOR INDIVIDUAL]-pu5wmb8LHa8.m4a\n",
      "[download] 100% of 15.10MiB in 00:00                          \n"
     ]
    },
    {
     "name": "stderr",
     "output_type": "stream",
     "text": [
      "WARNING: pu5wmb8LHa8: writing DASH m4a. Only some players support this container. Install ffmpeg or avconv to fix this automatically.\n"
     ]
    },
    {
     "name": "stdout",
     "output_type": "stream",
     "text": [
      "[youtube] HueiCZ0dQGk: Downloading webpage\n",
      "[download] Destination: Testei a Nova Máquina de Cartão Moderninha Pro 2 do [PagSeguro]-HueiCZ0dQGk.m4a\n",
      "[download] 100% of 19.13MiB in 00:00                          \n"
     ]
    },
    {
     "name": "stderr",
     "output_type": "stream",
     "text": [
      "WARNING: HueiCZ0dQGk: writing DASH m4a. Only some players support this container. Install ffmpeg or avconv to fix this automatically.\n"
     ]
    },
    {
     "name": "stdout",
     "output_type": "stream",
     "text": [
      "[youtube] AA7ML2GTShQ: Downloading webpage\n",
      "[youtube] AA7ML2GTShQ: Downloading MPD manifest\n",
      "[dashsegments] Total fragments: 74\n",
      "[download] Destination: Getnet com Chip VS SumUp On - Comparativo entre GETNET ou SUMUP!-AA7ML2GTShQ.m4a\n",
      "[download] 100% of 11.20MiB in 00:03                     \n"
     ]
    },
    {
     "name": "stderr",
     "output_type": "stream",
     "text": [
      "WARNING: AA7ML2GTShQ: writing DASH m4a. Only some players support this container. Install ffmpeg or avconv to fix this automatically.\n"
     ]
    },
    {
     "name": "stdout",
     "output_type": "stream",
     "text": [
      "[youtube] tX5YAf3FbKY: Downloading webpage\n",
      "[youtube] tX5YAf3FbKY: Downloading MPD manifest\n",
      "[dashsegments] Total fragments: 43\n",
      "[download] Destination: Análise da Máquina de Cartão SuperGet da GetNet-tX5YAf3FbKY.m4a\n",
      "[download] 100% of 6.35MiB in 00:01                      \n"
     ]
    },
    {
     "name": "stderr",
     "output_type": "stream",
     "text": [
      "WARNING: tX5YAf3FbKY: writing DASH m4a. Only some players support this container. Install ffmpeg or avconv to fix this automatically.\n"
     ]
    },
    {
     "name": "stdout",
     "output_type": "stream",
     "text": [
      "[youtube] 9XY4sCNixH0: Downloading webpage\n",
      "[download] Destination: Empreendedorismo de sucesso _ Gestão financeira - O que é capital de giro _ O Sebrae MS ensina!-9XY4sCNixH0.m4a\n",
      "[download] 100% of 3.82MiB in 00:00                          \n"
     ]
    },
    {
     "name": "stderr",
     "output_type": "stream",
     "text": [
      "WARNING: 9XY4sCNixH0: writing DASH m4a. Only some players support this container. Install ffmpeg or avconv to fix this automatically.\n"
     ]
    },
    {
     "name": "stdout",
     "output_type": "stream",
     "text": [
      "[youtube] iFNZxM3VnSM: Downloading webpage\n",
      "[download] Destination: Capital de giro mal administrado é o principal motivo de falência de empresas.-iFNZxM3VnSM.m4a\n",
      "[download] 100% of 4.67MiB in 00:00                          \n"
     ]
    },
    {
     "name": "stderr",
     "output_type": "stream",
     "text": [
      "WARNING: iFNZxM3VnSM: writing DASH m4a. Only some players support this container. Install ffmpeg or avconv to fix this automatically.\n"
     ]
    },
    {
     "name": "stdout",
     "output_type": "stream",
     "text": [
      "[youtube] gPvobd3QKwM: Downloading webpage\n",
      "[youtube] gPvobd3QKwM: Downloading MPD manifest\n",
      "[dashsegments] Total fragments: 45\n",
      "[download] Destination: O que é Capital de Giro-gPvobd3QKwM.m4a\n",
      "[download] 100% of 3.29MiB in 00:03                      \n"
     ]
    },
    {
     "name": "stderr",
     "output_type": "stream",
     "text": [
      "WARNING: gPvobd3QKwM: writing DASH m4a. Only some players support this container. Install ffmpeg or avconv to fix this automatically.\n"
     ]
    },
    {
     "name": "stdout",
     "output_type": "stream",
     "text": [
      "[youtube] cPeKOpPrm38: Downloading webpage\n",
      "[youtube] cPeKOpPrm38: Downloading MPD manifest\n",
      "[dashsegments] Total fragments: 53\n",
      "[download] Destination: Para que serve o Capital de Giro-cPeKOpPrm38.m4a\n",
      "[download] 100% of 3.91MiB in 00:04                      \n"
     ]
    },
    {
     "name": "stderr",
     "output_type": "stream",
     "text": [
      "WARNING: cPeKOpPrm38: writing DASH m4a. Only some players support this container. Install ffmpeg or avconv to fix this automatically.\n"
     ]
    },
    {
     "name": "stdout",
     "output_type": "stream",
     "text": [
      "[youtube] BIJR5yCBKp8: Downloading webpage\n",
      "[youtube] BIJR5yCBKp8: Downloading MPD manifest\n",
      "[dashsegments] Total fragments: 24\n",
      "[download] Destination: Como FALAR com a CENTRAL DE ATENDIMENTO PagSeguro (SAC e 0800)-BIJR5yCBKp8.m4a\n",
      "[download] 100% of 3.52MiB in 00:01                      \n"
     ]
    },
    {
     "name": "stderr",
     "output_type": "stream",
     "text": [
      "WARNING: BIJR5yCBKp8: writing DASH m4a. Only some players support this container. Install ffmpeg or avconv to fix this automatically.\n"
     ]
    },
    {
     "name": "stdout",
     "output_type": "stream",
     "text": [
      "[youtube] V32uUYE5zx0: Downloading webpage\n",
      "[download] Destination: Como fazer cobrança por telefone - Dicas de Crédito e Cobrança - #DrDenisSiqueira-V32uUYE5zx0.m4a\n",
      "[download] 100% of 4.53MiB in 00:00                          \n"
     ]
    },
    {
     "name": "stderr",
     "output_type": "stream",
     "text": [
      "WARNING: V32uUYE5zx0: writing DASH m4a. Only some players support this container. Install ffmpeg or avconv to fix this automatically.\n"
     ]
    },
    {
     "name": "stdout",
     "output_type": "stream",
     "text": [
      "[youtube] Iy_CN6ugubU: Downloading webpage\n",
      "[youtube] Iy_CN6ugubU: Downloading MPD manifest\n",
      "[dashsegments] Total fragments: 16\n",
      "[download] Destination: 6 dicas para se PREVENIR contra GOLPES em nome da Gerencianet-Iy_CN6ugubU.m4a\n",
      "[download] 100% of 2.23MiB in 00:00                   \n"
     ]
    },
    {
     "name": "stderr",
     "output_type": "stream",
     "text": [
      "WARNING: Iy_CN6ugubU: writing DASH m4a. Only some players support this container. Install ffmpeg or avconv to fix this automatically.\n"
     ]
    },
    {
     "name": "stdout",
     "output_type": "stream",
     "text": [
      "[youtube] Ongef7o7jIM: Downloading webpage\n",
      "[download] Destination: Identificação Biométrica - como ela mudou a sua vida e você não percebeu-Ongef7o7jIM.m4a\n",
      "[download] 100% of 4.62MiB in 00:00                          \n"
     ]
    },
    {
     "name": "stderr",
     "output_type": "stream",
     "text": [
      "WARNING: Ongef7o7jIM: writing DASH m4a. Only some players support this container. Install ffmpeg or avconv to fix this automatically.\n"
     ]
    },
    {
     "name": "stdout",
     "output_type": "stream",
     "text": [
      "[youtube] KzQDoyszi6Y: Downloading webpage\n",
      "[youtube] KzQDoyszi6Y: Downloading MPD manifest\n",
      "[dashsegments] Total fragments: 25\n",
      "[download] Destination: Boleto Falso - dicas para se proteger - Serasa Ensina-KzQDoyszi6Y.m4a\n",
      "[download] 100% of 3.68MiB in 00:02                      \n"
     ]
    },
    {
     "name": "stderr",
     "output_type": "stream",
     "text": [
      "WARNING: KzQDoyszi6Y: writing DASH m4a. Only some players support this container. Install ffmpeg or avconv to fix this automatically.\n"
     ]
    },
    {
     "name": "stdout",
     "output_type": "stream",
     "text": [
      "[youtube] vfAw2wUUOkM: Downloading webpage\n",
      "[youtube] vfAw2wUUOkM: Downloading MPD manifest\n",
      "[dashsegments] Total fragments: 10\n",
      "[download] Destination: Rede ajuda - o que é chargeback-vfAw2wUUOkM.m4a\n",
      "[download] 100% of 1.29MiB in 00:00                       \n"
     ]
    },
    {
     "name": "stderr",
     "output_type": "stream",
     "text": [
      "WARNING: vfAw2wUUOkM: writing DASH m4a. Only some players support this container. Install ffmpeg or avconv to fix this automatically.\n"
     ]
    },
    {
     "name": "stdout",
     "output_type": "stream",
     "text": [
      "[youtube] cQGtq8XrK4Q: Downloading webpage\n",
      "[download] Destination: 🔵  FÁBRICA DE MILIONÁRIOS-cQGtq8XrK4Q.m4a\n",
      "[download] 100% of 7.53MiB in 00:00                          \n"
     ]
    },
    {
     "name": "stderr",
     "output_type": "stream",
     "text": [
      "WARNING: cQGtq8XrK4Q: writing DASH m4a. Only some players support this container. Install ffmpeg or avconv to fix this automatically.\n"
     ]
    },
    {
     "name": "stdout",
     "output_type": "stream",
     "text": [
      "[youtube] 9duiVHEgZPQ: Downloading webpage\n",
      "[youtube] 9duiVHEgZPQ: Downloading MPD manifest\n",
      "[dashsegments] Total fragments: 6\n",
      "[download] Destination: App Rede - Como baixar e fazer o primeiro acesso-9duiVHEgZPQ.m4a\n",
      "[download] 100% of 771.23KiB in 00:00                   \n"
     ]
    },
    {
     "name": "stderr",
     "output_type": "stream",
     "text": [
      "WARNING: 9duiVHEgZPQ: writing DASH m4a. Only some players support this container. Install ffmpeg or avconv to fix this automatically.\n"
     ]
    },
    {
     "name": "stdout",
     "output_type": "stream",
     "text": [
      "[youtube] Zoo_zasErNw: Downloading webpage\n",
      "[download] Destination: Conheça o Valdenir e saiba como usar a antecipação sem taxa da Rede-Zoo_zasErNw.m4a\n",
      "[download] 100% of 834.14KiB in 00:00                          \n"
     ]
    },
    {
     "name": "stderr",
     "output_type": "stream",
     "text": [
      "WARNING: Zoo_zasErNw: writing DASH m4a. Only some players support this container. Install ffmpeg or avconv to fix this automatically.\n"
     ]
    },
    {
     "name": "stdout",
     "output_type": "stream",
     "text": [
      "[youtube] 6Jp9EnTzg3I: Downloading webpage\n",
      "[download] Destination: Conheça a Wania e veja como as condições da Rede impulsionam seu atelier-6Jp9EnTzg3I.m4a\n",
      "[download] 100% of 779.39KiB in 00:00                          \n"
     ]
    },
    {
     "name": "stderr",
     "output_type": "stream",
     "text": [
      "WARNING: 6Jp9EnTzg3I: writing DASH m4a. Only some players support this container. Install ffmpeg or avconv to fix this automatically.\n"
     ]
    },
    {
     "name": "stdout",
     "output_type": "stream",
     "text": [
      "[youtube] oTkKUMWK2Do: Downloading webpage\n",
      "[youtube] oTkKUMWK2Do: Downloading MPD manifest\n",
      "[dashsegments] Total fragments: 6\n",
      "[download] Destination: Rede ajuda - como vender com iti nas maquininhas Rede-oTkKUMWK2Do.m4a\n",
      "[download] 100% of 753.63KiB in 00:00                     \n"
     ]
    },
    {
     "name": "stderr",
     "output_type": "stream",
     "text": [
      "WARNING: oTkKUMWK2Do: writing DASH m4a. Only some players support this container. Install ffmpeg or avconv to fix this automatically.\n"
     ]
    },
    {
     "name": "stdout",
     "output_type": "stream",
     "text": [
      "[youtube] Lc6mUd4QG24: Downloading webpage\n",
      "[youtube] Lc6mUd4QG24: Downloading MPD manifest\n",
      "[dashsegments] Total fragments: 10\n",
      "[download] Destination: Rede ajuda - como cadastrar o token Rede pelo computador-Lc6mUd4QG24.m4a\n",
      "[download] 100% of 1.31MiB in 00:01                    \n"
     ]
    },
    {
     "name": "stderr",
     "output_type": "stream",
     "text": [
      "WARNING: Lc6mUd4QG24: writing DASH m4a. Only some players support this container. Install ffmpeg or avconv to fix this automatically.\n"
     ]
    },
    {
     "name": "stdout",
     "output_type": "stream",
     "text": [
      "[youtube] VtoL0KOd9WM: Downloading webpage\n",
      "[youtube] VtoL0KOd9WM: Downloading MPD manifest\n",
      "[dashsegments] Total fragments: 10\n",
      "[download] Destination: Rede ajuda - como cadastrar o token Rede pelo celular-VtoL0KOd9WM.m4a\n",
      "[download] 100% of 1.38MiB in 00:01                     \n"
     ]
    },
    {
     "name": "stderr",
     "output_type": "stream",
     "text": [
      "WARNING: VtoL0KOd9WM: writing DASH m4a. Only some players support this container. Install ffmpeg or avconv to fix this automatically.\n"
     ]
    },
    {
     "name": "stdout",
     "output_type": "stream",
     "text": [
      "[youtube] Oh3M6kz42Yo: Downloading webpage\n",
      "[youtube] Oh3M6kz42Yo: Downloading MPD manifest\n",
      "[dashsegments] Total fragments: 13\n",
      "[download] Destination: Fuja de GOLPES - 5 dicas para identificar FRAUDES em boletos-Oh3M6kz42Yo.m4a\n",
      "[download] 100% of 1.76MiB in 00:01                   \n"
     ]
    },
    {
     "name": "stderr",
     "output_type": "stream",
     "text": [
      "WARNING: Oh3M6kz42Yo: writing DASH m4a. Only some players support this container. Install ffmpeg or avconv to fix this automatically.\n"
     ]
    },
    {
     "name": "stdout",
     "output_type": "stream",
     "text": [
      "[youtube] Gz8m6t6omaE: Downloading webpage\n",
      "[download] Destination: BANCOS-Gz8m6t6omaE.m4a\n",
      "[download] 100% of 2.49MiB in 00:00                          \n"
     ]
    },
    {
     "name": "stderr",
     "output_type": "stream",
     "text": [
      "WARNING: Gz8m6t6omaE: writing DASH m4a. Only some players support this container. Install ffmpeg or avconv to fix this automatically.\n"
     ]
    },
    {
     "name": "stdout",
     "output_type": "stream",
     "text": [
      "[youtube] QK95NOQScYg: Downloading webpage\n",
      "[download] Destination: MELHOR BANCO DIGITAL para abrir sua conta em 2020 _ Guia do TudoCelular-QK95NOQScYg.m4a\n",
      "[download] 100% of 6.77MiB in 00:00                          \n"
     ]
    },
    {
     "name": "stderr",
     "output_type": "stream",
     "text": [
      "WARNING: QK95NOQScYg: writing DASH m4a. Only some players support this container. Install ffmpeg or avconv to fix this automatically.\n"
     ]
    },
    {
     "name": "stdout",
     "output_type": "stream",
     "text": [
      "[youtube] ThgJMSlbB6k: Downloading webpage\n",
      "[download] Destination: Conta Corrente Gratuita em qualquer Banco #FikDik @CanalDoOtario-ThgJMSlbB6k.m4a\n",
      "[download] 100% of 4.71MiB in 00:00                          \n"
     ]
    },
    {
     "name": "stderr",
     "output_type": "stream",
     "text": [
      "WARNING: ThgJMSlbB6k: writing DASH m4a. Only some players support this container. Install ffmpeg or avconv to fix this automatically.\n"
     ]
    },
    {
     "name": "stdout",
     "output_type": "stream",
     "text": [
      "[youtube] E6CcTtAmwAM: Downloading webpage\n",
      "[download] Destination: Qual MELHOR BANCO, CONTA e CARTÃO DIGITAL em 2019! _ Minha experiência!-E6CcTtAmwAM.m4a\n",
      "[download] 100% of 11.19MiB in 00:00                          \n"
     ]
    },
    {
     "name": "stderr",
     "output_type": "stream",
     "text": [
      "WARNING: E6CcTtAmwAM: writing DASH m4a. Only some players support this container. Install ffmpeg or avconv to fix this automatically.\n"
     ]
    },
    {
     "name": "stdout",
     "output_type": "stream",
     "text": [
      "[youtube] NLlsihENFFM: Downloading webpage\n",
      "[download] Destination: Comparando indicadores de BBAS3 e SANB11 _ Banco do Brasil x Santander SA _ Como analisar bancos-NLlsihENFFM.m4a\n",
      "[download] 100% of 9.88MiB in 00:00                          \n"
     ]
    },
    {
     "name": "stderr",
     "output_type": "stream",
     "text": [
      "WARNING: NLlsihENFFM: writing DASH m4a. Only some players support this container. Install ffmpeg or avconv to fix this automatically.\n"
     ]
    },
    {
     "name": "stdout",
     "output_type": "stream",
     "text": [
      "[youtube] 6efwUjasMhY: Downloading webpage\n",
      "[download] Destination: Ainda vale investir nos bancos tradicionais-6efwUjasMhY.m4a\n",
      "[download] 100% of 5.55MiB in 00:00                          \n"
     ]
    },
    {
     "name": "stderr",
     "output_type": "stream",
     "text": [
      "WARNING: 6efwUjasMhY: writing DASH m4a. Only some players support this container. Install ffmpeg or avconv to fix this automatically.\n"
     ]
    },
    {
     "name": "stdout",
     "output_type": "stream",
     "text": [
      "[youtube] 0zUtIldz78M: Downloading webpage\n",
      "[download] Destination: Será que vale a pena ter conta em vários bancos-0zUtIldz78M.m4a\n",
      "[download] 100% of 3.60MiB in 00:00                          \n"
     ]
    },
    {
     "name": "stderr",
     "output_type": "stream",
     "text": [
      "WARNING: 0zUtIldz78M: writing DASH m4a. Only some players support this container. Install ffmpeg or avconv to fix this automatically.\n"
     ]
    },
    {
     "name": "stdout",
     "output_type": "stream",
     "text": [
      "[youtube] AfQvyuuPoW8: Downloading webpage\n",
      "[youtube] AfQvyuuPoW8: Downloading MPD manifest\n",
      "[dashsegments] Total fragments: 145\n",
      "[download] Destination: Home Broker Banco Inter 2020 📲 Como COMPRAR AÇÕES na PRÁTICA no Computador e APP Banco Inter 2020 ✅-AfQvyuuPoW8.m4a\n",
      "[download] 100% of 22.10MiB in 00:13                     \n"
     ]
    },
    {
     "name": "stderr",
     "output_type": "stream",
     "text": [
      "WARNING: AfQvyuuPoW8: writing DASH m4a. Only some players support this container. Install ffmpeg or avconv to fix this automatically.\n"
     ]
    },
    {
     "name": "stdout",
     "output_type": "stream",
     "text": [
      "[youtube] 7raMQ7kf5ck: Downloading webpage\n",
      "[download] Destination: #ReinventeOFuturo-7raMQ7kf5ck.m4a\n",
      "[download] 100% of 950.87KiB in 00:00                          \n"
     ]
    },
    {
     "name": "stderr",
     "output_type": "stream",
     "text": [
      "WARNING: 7raMQ7kf5ck: writing DASH m4a. Only some players support this container. Install ffmpeg or avconv to fix this automatically.\n"
     ]
    },
    {
     "name": "stdout",
     "output_type": "stream",
     "text": [
      "[youtube] CIytl3hlOzs: Downloading webpage\n",
      "[download] Destination: Aguente firme para Reinventar O Futuro-CIytl3hlOzs.m4a\n",
      "[download] 100% of 951.22KiB in 00:00                          \n"
     ]
    },
    {
     "name": "stderr",
     "output_type": "stream",
     "text": [
      "WARNING: CIytl3hlOzs: writing DASH m4a. Only some players support this container. Install ffmpeg or avconv to fix this automatically.\n"
     ]
    },
    {
     "name": "stdout",
     "output_type": "stream",
     "text": [
      "[youtube] apTU86NHlXw: Downloading webpage\n",
      "[download] Destination: Aguente firme com o Bradesco Empresas e Negócios-apTU86NHlXw.m4a\n",
      "[download] 100% of 476.66KiB in 00:00                          \n"
     ]
    },
    {
     "name": "stderr",
     "output_type": "stream",
     "text": [
      "WARNING: apTU86NHlXw: writing DASH m4a. Only some players support this container. Install ffmpeg or avconv to fix this automatically.\n"
     ]
    },
    {
     "name": "stdout",
     "output_type": "stream",
     "text": [
      "[youtube] k3brZzuC5Ug: Downloading webpage\n",
      "[download] Destination: BIA. A Inteligência Artificial do Bradesco.-k3brZzuC5Ug.m4a\n",
      "[download] 100% of 931.98KiB in 00:00                          \n"
     ]
    },
    {
     "name": "stderr",
     "output_type": "stream",
     "text": [
      "WARNING: k3brZzuC5Ug: writing DASH m4a. Only some players support this container. Install ffmpeg or avconv to fix this automatically.\n"
     ]
    },
    {
     "name": "stdout",
     "output_type": "stream",
     "text": [
      "[youtube] pOlN4rnIYko: Downloading webpage\n",
      "[download] Destination: App Bradesco - Episódio - Reunião-pOlN4rnIYko.m4a\n",
      "[download] 100% of 467.93KiB in 00:00                          \n"
     ]
    },
    {
     "name": "stderr",
     "output_type": "stream",
     "text": [
      "WARNING: pOlN4rnIYko: writing DASH m4a. Only some players support this container. Install ffmpeg or avconv to fix this automatically.\n"
     ]
    },
    {
     "name": "stdout",
     "output_type": "stream",
     "text": [
      "[youtube] kyK6gUh0EqM: Downloading webpage\n",
      "[download] Destination: Como baixar os juros do seu empréstimo - #CerbasiResponde-kyK6gUh0EqM.m4a\n",
      "[download] 100% of 6.70MiB in 00:00                          \n"
     ]
    },
    {
     "name": "stderr",
     "output_type": "stream",
     "text": [
      "WARNING: kyK6gUh0EqM: writing DASH m4a. Only some players support this container. Install ffmpeg or avconv to fix this automatically.\n"
     ]
    },
    {
     "name": "stdout",
     "output_type": "stream",
     "text": [
      "[youtube] 7LE_ATOAO-U: Downloading webpage\n",
      "[download] Destination: Como diminuir o valor da parcela do financiamento - Serasa Ensina-7LE_ATOAO-U.m4a\n",
      "[download] 100% of 4.00MiB in 00:00                          \n"
     ]
    },
    {
     "name": "stderr",
     "output_type": "stream",
     "text": [
      "WARNING: 7LE_ATOAO-U: writing DASH m4a. Only some players support this container. Install ffmpeg or avconv to fix this automatically.\n"
     ]
    },
    {
     "name": "stdout",
     "output_type": "stream",
     "text": [
      "[youtube] idx_hSZorZY: Downloading webpage\n",
      "[download] Destination: NÃO PAGUE SUA DÍVIDA (antes de ver isso!)-idx_hSZorZY.m4a\n",
      "[download] 100% of 11.12MiB in 00:00                          \n"
     ]
    },
    {
     "name": "stderr",
     "output_type": "stream",
     "text": [
      "WARNING: idx_hSZorZY: writing DASH m4a. Only some players support this container. Install ffmpeg or avconv to fix this automatically.\n"
     ]
    },
    {
     "name": "stdout",
     "output_type": "stream",
     "text": [
      "[youtube] 5kkzU81WtsE: Downloading webpage\n",
      "[download] Destination: Como investir com pouco dinheiro-5kkzU81WtsE.m4a\n",
      "[download] 100% of 23.88MiB in 00:01                          \n"
     ]
    },
    {
     "name": "stderr",
     "output_type": "stream",
     "text": [
      "WARNING: 5kkzU81WtsE: writing DASH m4a. Only some players support this container. Install ffmpeg or avconv to fix this automatically.\n"
     ]
    },
    {
     "name": "stdout",
     "output_type": "stream",
     "text": [
      "[youtube] l-CVnA-fSTw: Downloading webpage\n",
      "[youtube] l-CVnA-fSTw: Downloading MPD manifest\n",
      "[dashsegments] Total fragments: 134\n",
      "[download] Destination: Crédito Ágil a 30% - Maximizando a aderência e rentabilidade nas Cooperativas de Crédito-l-CVnA-fSTw.m4a\n",
      "[download] 100% of 20.43MiB in 00:13                     \n"
     ]
    },
    {
     "name": "stderr",
     "output_type": "stream",
     "text": [
      "WARNING: l-CVnA-fSTw: writing DASH m4a. Only some players support this container. Install ffmpeg or avconv to fix this automatically.\n"
     ]
    },
    {
     "name": "stdout",
     "output_type": "stream",
     "text": [
      "[youtube] JYwCZ5F5wyk: Downloading webpage\n",
      "[youtube] JYwCZ5F5wyk: Downloading js player e49bfb00\n",
      "[youtube] JYwCZ5F5wyk: Downloading js player e49bfb00\n",
      "[download] Destination: Meios de pagamento interligados - Rede-JYwCZ5F5wyk.m4a\n",
      "[download] 100% of 2.44MiB in 00:00                          \n"
     ]
    },
    {
     "name": "stderr",
     "output_type": "stream",
     "text": [
      "WARNING: JYwCZ5F5wyk: writing DASH m4a. Only some players support this container. Install ffmpeg or avconv to fix this automatically.\n"
     ]
    },
    {
     "name": "stdout",
     "output_type": "stream",
     "text": [
      "[youtube] uBXXlFBvJpA: Downloading webpage\n",
      "[youtube] uBXXlFBvJpA: Downloading MPD manifest\n",
      "[dashsegments] Total fragments: 10\n",
      "[download] Destination: DO QUE É FEITO SEU SUCESSO _ TIPS #04 - Zerezes (Hugo Galindo)-uBXXlFBvJpA.m4a\n",
      "[download] 100% of 684.45KiB in 00:00                     \n"
     ]
    },
    {
     "name": "stderr",
     "output_type": "stream",
     "text": [
      "WARNING: uBXXlFBvJpA: writing DASH m4a. Only some players support this container. Install ffmpeg or avconv to fix this automatically.\n"
     ]
    },
    {
     "name": "stdout",
     "output_type": "stream",
     "text": [
      "[youtube] uie-3zmhbLk: Downloading webpage\n",
      "[youtube] uie-3zmhbLk: Downloading MPD manifest\n",
      "[dashsegments] Total fragments: 22\n",
      "[download] Destination: Conciliação de cartão - integração que evita prejuízos!-uie-3zmhbLk.m4a\n",
      "[download] 100% of 3.21MiB in 00:01                      \n"
     ]
    },
    {
     "name": "stderr",
     "output_type": "stream",
     "text": [
      "WARNING: uie-3zmhbLk: writing DASH m4a. Only some players support this container. Install ffmpeg or avconv to fix this automatically.\n"
     ]
    },
    {
     "name": "stdout",
     "output_type": "stream",
     "text": [
      "[youtube] hIPoZznC_7g: Downloading webpage\n",
      "[youtube] hIPoZznC_7g: Downloading MPD manifest\n",
      "[dashsegments] Total fragments: 11\n",
      "[download] Destination: CONHEÇA AS DIFERENÇAS ENTRE GATEWAY E INTERMEDIADOR DE PAGAMENTO PARA E-COMMERCE _ FELIPE MARTINS-hIPoZznC_7g.m4a\n",
      "[download] 100% of 1.42MiB in 00:00                       \n"
     ]
    },
    {
     "name": "stderr",
     "output_type": "stream",
     "text": [
      "WARNING: hIPoZznC_7g: writing DASH m4a. Only some players support this container. Install ffmpeg or avconv to fix this automatically.\n"
     ]
    },
    {
     "name": "stdout",
     "output_type": "stream",
     "text": [
      "[youtube] JJ9hZHquINg: Downloading webpage\n",
      "[youtube] JJ9hZHquINg: Downloading MPD manifest\n",
      "[dashsegments] Total fragments: 52\n",
      "[download] Destination: QUAL É A MELHOR FORMA DE PAGAMENTO PARA MEU E-COMMERCE _ FELIPE MARTINS-JJ9hZHquINg.m4a\n",
      "[download] 100% of 7.77MiB in 00:02                      \n"
     ]
    },
    {
     "name": "stderr",
     "output_type": "stream",
     "text": [
      "WARNING: JJ9hZHquINg: writing DASH m4a. Only some players support this container. Install ffmpeg or avconv to fix this automatically.\n"
     ]
    },
    {
     "name": "stdout",
     "output_type": "stream",
     "text": [
      "[youtube] Bg4XIkx3ZM4: Downloading webpage\n",
      "[download] Destination: Bancos - vilões ou aliados-Bg4XIkx3ZM4.m4a\n",
      "[download] 100% of 2.49MiB in 00:00                          \n"
     ]
    },
    {
     "name": "stderr",
     "output_type": "stream",
     "text": [
      "WARNING: Bg4XIkx3ZM4: writing DASH m4a. Only some players support this container. Install ffmpeg or avconv to fix this automatically.\n"
     ]
    },
    {
     "name": "stdout",
     "output_type": "stream",
     "text": [
      "[youtube] TH3Ob2ffnfU: Downloading webpage\n",
      "[youtube] TH3Ob2ffnfU: Downloading MPD manifest\n",
      "[dashsegments] Total fragments: 9\n",
      "[download] Destination: Rede Ajuda - Veja como simular o valor real de suas venda no App Rede-TH3Ob2ffnfU.m4a\n",
      "[download] 100% of 1.13MiB in 00:00                       \n"
     ]
    },
    {
     "name": "stderr",
     "output_type": "stream",
     "text": [
      "WARNING: TH3Ob2ffnfU: writing DASH m4a. Only some players support this container. Install ffmpeg or avconv to fix this automatically.\n"
     ]
    },
    {
     "name": "stdout",
     "output_type": "stream",
     "text": [
      "[youtube] 28WINgcUwaw: Downloading webpage\n",
      "[youtube] 28WINgcUwaw: Downloading MPD manifest\n",
      "[dashsegments] Total fragments: 11\n",
      "[download] Destination: RAIO-X _ VENDAS-28WINgcUwaw.m4a\n",
      "[download] 100% of 1.42MiB in 00:00                       \n"
     ]
    },
    {
     "name": "stderr",
     "output_type": "stream",
     "text": [
      "WARNING: 28WINgcUwaw: writing DASH m4a. Only some players support this container. Install ffmpeg or avconv to fix this automatically.\n"
     ]
    },
    {
     "name": "stdout",
     "output_type": "stream",
     "text": [
      "[youtube] WNaQahAgLfQ: Downloading webpage\n",
      "[youtube] WNaQahAgLfQ: Downloading MPD manifest\n",
      "[dashsegments] Total fragments: 36\n",
      "[download] Destination: Redes e Franquias - o produto mais vendido é o mais lucrativo-WNaQahAgLfQ.m4a\n",
      "[download] 100% of 2.62MiB in 00:18                   \n"
     ]
    },
    {
     "name": "stderr",
     "output_type": "stream",
     "text": [
      "WARNING: WNaQahAgLfQ: writing DASH m4a. Only some players support this container. Install ffmpeg or avconv to fix this automatically.\n"
     ]
    },
    {
     "name": "stdout",
     "output_type": "stream",
     "text": [
      "[youtube] fx_0wiK8D1U: Downloading webpage\n",
      "[youtube] fx_0wiK8D1U: Downloading MPD manifest\n",
      "[dashsegments] Total fragments: 57\n",
      "[download] Destination: Banco Central divulga novas normas para crédito rotativo-fx_0wiK8D1U.m4a\n",
      "[download] 100% of 4.20MiB in 00:19                      \n"
     ]
    },
    {
     "name": "stderr",
     "output_type": "stream",
     "text": [
      "WARNING: fx_0wiK8D1U: writing DASH m4a. Only some players support this container. Install ffmpeg or avconv to fix this automatically.\n"
     ]
    },
    {
     "name": "stdout",
     "output_type": "stream",
     "text": [
      "[youtube] HTsgd8NbINs: Downloading webpage\n",
      "[youtube] HTsgd8NbINs: Downloading MPD manifest\n",
      "[dashsegments] Total fragments: 7\n",
      "[download] Destination: NÃO CONSTRUA O SEU NEGÓCIO SOZINHO _ TIPS #07 -  Touts (Arturo Edo)-HTsgd8NbINs.m4a\n",
      "[download] 100% of 461.43KiB in 00:00                   \n"
     ]
    },
    {
     "name": "stderr",
     "output_type": "stream",
     "text": [
      "WARNING: HTsgd8NbINs: writing DASH m4a. Only some players support this container. Install ffmpeg or avconv to fix this automatically.\n"
     ]
    },
    {
     "name": "stdout",
     "output_type": "stream",
     "text": [
      "[youtube] RULtAWCvz5M: Downloading webpage\n",
      "[youtube] RULtAWCvz5M: Downloading MPD manifest\n",
      "[dashsegments] Total fragments: 7\n",
      "[download] Destination: TRANSFORME SEU NEGÓCIO EM REALIDADE _ TIPS #01 - Zerezes (Luiz Eduardo Rocha)-RULtAWCvz5M.m4a\n",
      "[download] 100% of 420.09KiB in 00:00                     \n"
     ]
    },
    {
     "name": "stderr",
     "output_type": "stream",
     "text": [
      "WARNING: RULtAWCvz5M: writing DASH m4a. Only some players support this container. Install ffmpeg or avconv to fix this automatically.\n"
     ]
    },
    {
     "name": "stdout",
     "output_type": "stream",
     "text": [
      "[youtube] kCbRJqkajnE: Downloading webpage\n",
      "[download] Destination: Testei a Maquininha de Cartão Stone [Stone Livre]-kCbRJqkajnE.m4a\n",
      "[download] 100% of 12.77MiB in 00:00                          \n"
     ]
    },
    {
     "name": "stderr",
     "output_type": "stream",
     "text": [
      "WARNING: kCbRJqkajnE: writing DASH m4a. Only some players support this container. Install ffmpeg or avconv to fix this automatically.\n"
     ]
    },
    {
     "name": "stdout",
     "output_type": "stream",
     "text": [
      "[youtube] FSGfuJx8hfs: Downloading webpage\n",
      "[download] Destination: Pedir empréstimo para empreender-FSGfuJx8hfs.m4a\n",
      "[download] 100% of 6.11MiB in 00:00                          \n"
     ]
    },
    {
     "name": "stderr",
     "output_type": "stream",
     "text": [
      "WARNING: FSGfuJx8hfs: writing DASH m4a. Only some players support this container. Install ffmpeg or avconv to fix this automatically.\n"
     ]
    },
    {
     "name": "stdout",
     "output_type": "stream",
     "text": [
      "[youtube] gjSDOFNC93E: Downloading webpage\n",
      "[download] Destination: Cartão de crédito - Como aumentar o limite - Serasa Ensina-gjSDOFNC93E.m4a\n",
      "[download] 100% of 3.86MiB in 00:00                  \n"
     ]
    },
    {
     "name": "stderr",
     "output_type": "stream",
     "text": [
      "WARNING: gjSDOFNC93E: writing DASH m4a. Only some players support this container. Install ffmpeg or avconv to fix this automatically.\n"
     ]
    },
    {
     "name": "stdout",
     "output_type": "stream",
     "text": [
      "[youtube] sRsCTXIcb5M: Downloading webpage\n",
      "[youtube] sRsCTXIcb5M: Downloading MPD manifest\n",
      "[dashsegments] Total fragments: 42\n",
      "[download] Destination: Empréstimo SEBRAE para MEI Programa juro zero 😱-sRsCTXIcb5M.m4a\n",
      "[download] 100% of 6.30MiB in 00:01                      \n"
     ]
    },
    {
     "name": "stderr",
     "output_type": "stream",
     "text": [
      "WARNING: sRsCTXIcb5M: writing DASH m4a. Only some players support this container. Install ffmpeg or avconv to fix this automatically.\n"
     ]
    },
    {
     "name": "stdout",
     "output_type": "stream",
     "text": [
      "[youtube] M6WrvPyVnN0: Downloading webpage\n",
      "[youtube] M6WrvPyVnN0: Downloading MPD manifest\n",
      "[dashsegments] Total fragments: 30\n",
      "[download] Destination: Se Eu Fizer Isso O CRÉDITO Vem-M6WrvPyVnN0.m4a\n",
      "[download] 100% of 4.41MiB in 00:03                      \n"
     ]
    },
    {
     "name": "stderr",
     "output_type": "stream",
     "text": [
      "WARNING: M6WrvPyVnN0: writing DASH m4a. Only some players support this container. Install ffmpeg or avconv to fix this automatically.\n"
     ]
    },
    {
     "name": "stdout",
     "output_type": "stream",
     "text": [
      "[youtube] MtFxmFYioas: Downloading webpage\n",
      "[download] Destination: Como administrar as finanças de sua empresa - #CerbasiResponde-MtFxmFYioas.m4a\n",
      "[download] 100% of 8.49MiB in 00:00                          \n"
     ]
    },
    {
     "name": "stderr",
     "output_type": "stream",
     "text": [
      "WARNING: MtFxmFYioas: writing DASH m4a. Only some players support this container. Install ffmpeg or avconv to fix this automatically.\n"
     ]
    },
    {
     "name": "stdout",
     "output_type": "stream",
     "text": [
      "[youtube] MPqipb77_7s: Downloading webpage\n",
      "[download] Destination: BB _ Ourocard - Sua Foto no Cartão de Crédito-MPqipb77_7s.m4a\n",
      "[download] 100% of 864.04KiB in 00:00                  \n"
     ]
    },
    {
     "name": "stderr",
     "output_type": "stream",
     "text": [
      "WARNING: MPqipb77_7s: writing DASH m4a. Only some players support this container. Install ffmpeg or avconv to fix this automatically.\n"
     ]
    },
    {
     "name": "stdout",
     "output_type": "stream",
     "text": [
      "[youtube] 46EH2NDHM6g: Downloading webpage\n",
      "[youtube] 46EH2NDHM6g: Downloading MPD manifest\n",
      "[dashsegments] Total fragments: 27\n",
      "[download] Destination: Nome Limpo CRÉDITO Garantido Sim ou Não-46EH2NDHM6g.m4a\n",
      "[download] 100% of 3.94MiB in 00:01                      \n"
     ]
    },
    {
     "name": "stderr",
     "output_type": "stream",
     "text": [
      "WARNING: 46EH2NDHM6g: writing DASH m4a. Only some players support this container. Install ffmpeg or avconv to fix this automatically.\n"
     ]
    }
   ],
   "source": [
    "from __future__ import unicode_literals\n",
    "import youtube_dl\n",
    "\n",
    "ydl_opts = {\n",
    "    'format': 'm4a/bestaudio/best',\n",
    "}\n",
    "with youtube_dl.YoutubeDL(ydl_opts) as ydl:\n",
    "    ydl.cache.remove()\n",
    "    ydl.download(good.keys())"
   ]
  },
  {
   "cell_type": "code",
   "execution_count": null,
   "metadata": {},
   "outputs": [],
   "source": []
  }
 ],
 "metadata": {
  "kernelspec": {
   "display_name": "Python 3",
   "language": "python",
   "name": "python3"
  },
  "language_info": {
   "codemirror_mode": {
    "name": "ipython",
    "version": 3
   },
   "file_extension": ".py",
   "mimetype": "text/x-python",
   "name": "python",
   "nbconvert_exporter": "python",
   "pygments_lexer": "ipython3",
   "version": "3.7.3"
  }
 },
 "nbformat": 4,
 "nbformat_minor": 2
}
