{
 "cells": [
  {
   "cell_type": "code",
   "execution_count": 2,
   "metadata": {},
   "outputs": [],
   "source": [
    "import pafy\n",
    "import pickle\n",
    "import youtube_dl\n",
    "\n",
    "import pandas as pd\n",
    "import numpy as np\n",
    "\n",
    "from youtube_transcript_api import YouTubeTranscriptApi"
   ]
  },
  {
   "cell_type": "code",
   "execution_count": 8,
   "metadata": {},
   "outputs": [
    {
     "data": {
      "text/html": [
       "<div>\n",
       "<style scoped>\n",
       "    .dataframe tbody tr th:only-of-type {\n",
       "        vertical-align: middle;\n",
       "    }\n",
       "\n",
       "    .dataframe tbody tr th {\n",
       "        vertical-align: top;\n",
       "    }\n",
       "\n",
       "    .dataframe thead th {\n",
       "        text-align: right;\n",
       "    }\n",
       "</style>\n",
       "<table border=\"1\" class=\"dataframe\">\n",
       "  <thead>\n",
       "    <tr style=\"text-align: right;\">\n",
       "      <th></th>\n",
       "      <th>links</th>\n",
       "    </tr>\n",
       "  </thead>\n",
       "  <tbody>\n",
       "    <tr>\n",
       "      <th>0</th>\n",
       "      <td>https://www.youtube.com/watch?v=5NlZKBjrWWU</td>\n",
       "    </tr>\n",
       "    <tr>\n",
       "      <th>1</th>\n",
       "      <td>https://www.youtube.com/watch?v=GyEVGyCa5xk</td>\n",
       "    </tr>\n",
       "    <tr>\n",
       "      <th>2</th>\n",
       "      <td>https://www.youtube.com/watch?v=OZQrmpReoPQ</td>\n",
       "    </tr>\n",
       "    <tr>\n",
       "      <th>3</th>\n",
       "      <td>https://www.youtube.com/watch?v=w9GbIfolvUs</td>\n",
       "    </tr>\n",
       "    <tr>\n",
       "      <th>4</th>\n",
       "      <td>https://www.youtube.com/watch?v=V32uUYE5zx0</td>\n",
       "    </tr>\n",
       "  </tbody>\n",
       "</table>\n",
       "</div>"
      ],
      "text/plain": [
       "                                         links\n",
       "0  https://www.youtube.com/watch?v=5NlZKBjrWWU\n",
       "1  https://www.youtube.com/watch?v=GyEVGyCa5xk\n",
       "2  https://www.youtube.com/watch?v=OZQrmpReoPQ\n",
       "3  https://www.youtube.com/watch?v=w9GbIfolvUs\n",
       "4  https://www.youtube.com/watch?v=V32uUYE5zx0"
      ]
     },
     "execution_count": 8,
     "metadata": {},
     "output_type": "execute_result"
    }
   ],
   "source": [
    "vidsold = pd.read_csv(\"./Videos - Sheet2.csv\",header=None)\n",
    "vidsold = pd.concat([vidsold, pd.read_csv(\"./Videos - Sheet3.csv\",header=None)],ignore_index=True)\n",
    "vids = pd.read_csv(\"./Videos - Sheet4.csv\",header=None)\n",
    "vids.columns = [\"links\"]\n",
    "vidsold.columns = [\"links\"]\n",
    "vids.head()"
   ]
  },
  {
   "cell_type": "code",
   "execution_count": 11,
   "metadata": {},
   "outputs": [],
   "source": [
    "vids=vids[~vids.isin(vidsold)]"
   ]
  },
  {
   "cell_type": "code",
   "execution_count": 12,
   "metadata": {},
   "outputs": [
    {
     "data": {
      "text/html": [
       "<div>\n",
       "<style scoped>\n",
       "    .dataframe tbody tr th:only-of-type {\n",
       "        vertical-align: middle;\n",
       "    }\n",
       "\n",
       "    .dataframe tbody tr th {\n",
       "        vertical-align: top;\n",
       "    }\n",
       "\n",
       "    .dataframe thead th {\n",
       "        text-align: right;\n",
       "    }\n",
       "</style>\n",
       "<table border=\"1\" class=\"dataframe\">\n",
       "  <thead>\n",
       "    <tr style=\"text-align: right;\">\n",
       "      <th></th>\n",
       "      <th>links</th>\n",
       "    </tr>\n",
       "  </thead>\n",
       "  <tbody>\n",
       "    <tr>\n",
       "      <th>46</th>\n",
       "      <td>https://www.youtube.com/watch?v=f0shuOVcBak</td>\n",
       "    </tr>\n",
       "    <tr>\n",
       "      <th>47</th>\n",
       "      <td>https://www.youtube.com/watch?v=4dgpOELKAOQ</td>\n",
       "    </tr>\n",
       "    <tr>\n",
       "      <th>48</th>\n",
       "      <td>https://www.youtube.com/watch?v=KX_6nYXeg18</td>\n",
       "    </tr>\n",
       "    <tr>\n",
       "      <th>49</th>\n",
       "      <td>https://www.youtube.com/watch?v=XkoJ70q1VdU</td>\n",
       "    </tr>\n",
       "    <tr>\n",
       "      <th>50</th>\n",
       "      <td>https://www.youtube.com/watch?v=whABY8Cgtt4</td>\n",
       "    </tr>\n",
       "  </tbody>\n",
       "</table>\n",
       "</div>"
      ],
      "text/plain": [
       "                                          links\n",
       "46  https://www.youtube.com/watch?v=f0shuOVcBak\n",
       "47  https://www.youtube.com/watch?v=4dgpOELKAOQ\n",
       "48  https://www.youtube.com/watch?v=KX_6nYXeg18\n",
       "49  https://www.youtube.com/watch?v=XkoJ70q1VdU\n",
       "50  https://www.youtube.com/watch?v=whABY8Cgtt4"
      ]
     },
     "execution_count": 12,
     "metadata": {},
     "output_type": "execute_result"
    }
   ],
   "source": [
    "vids.tail()"
   ]
  },
  {
   "cell_type": "code",
   "execution_count": 13,
   "metadata": {},
   "outputs": [],
   "source": [
    "def get_id(x):\n",
    "    try:\n",
    "        return str(x).split(\"v=\")[1]\n",
    "    except:\n",
    "        return None"
   ]
  },
  {
   "cell_type": "code",
   "execution_count": 14,
   "metadata": {},
   "outputs": [
    {
     "data": {
      "text/plain": [
       "(48, 2)"
      ]
     },
     "execution_count": 14,
     "metadata": {},
     "output_type": "execute_result"
    }
   ],
   "source": [
    "vids[\"ids\"] = vids.links.apply(lambda x: get_id(x))\n",
    "vids=vids.drop_duplicates(subset=\"ids\")\n",
    "vids.shape"
   ]
  },
  {
   "cell_type": "code",
   "execution_count": 15,
   "metadata": {},
   "outputs": [],
   "source": [
    "good, bad = YouTubeTranscriptApi.get_transcripts(vids.ids.values,languages=[\"pt-BR\",\"pt\"],continue_after_error=True)"
   ]
  },
  {
   "cell_type": "code",
   "execution_count": 16,
   "metadata": {},
   "outputs": [],
   "source": [
    "pickle.dump(good, open( \"transcripts_v3.pkl\", \"wb\" ) )"
   ]
  },
  {
   "cell_type": "code",
   "execution_count": 17,
   "metadata": {},
   "outputs": [
    {
     "data": {
      "text/plain": [
       "dict_keys(['5NlZKBjrWWU', 'GyEVGyCa5xk', 'OZQrmpReoPQ', 'w9GbIfolvUs', 'V32uUYE5zx0', '-TYfkszDHLA', 'yT1yDeTfEXY', '5waS6VDp2kI', 'p7vkQgCfHzE', 'jCgYT5iD_Fk', 'gV9PM31COEI', '6YTZ5ejVJbc', 'U_rvYpunNKk', 'kyK6gUh0EqM', 'sRsCTXIcb5M', 'KrnWjb7_yZg', '8czIoTWy5TY', 'Olz4XGXdgUg', 'ByiNh1qmM14', 'Ai5qbLYZBb0', 'BudPijYVD1E', 'MqbhXqcOG-o', 'iLfGLCXNBqk', 'p0yIcF4CWgk', 'LqAWP3Ilhw8', 'EdgZVDrT9mQ', 'BpJgyk4ncqc', 'asWtS5XTIYY', 'LCQayFjcr2U', 'GGIqp0r2je4', 'EyET7fOzHi4', 'u0A5Opejy2k', 'rLRkvvXehFc', 'EkdogihEvXM', '2Sk1ruX7bT0', 'FV8YZG7MtvM', 'QtW-vjZ3CSc', 'Y0OZXG9NKWU', 'd2xD1L4OWWk', 'wBza_qqt6aQ', 'unnS5O9bNbA', 'v3rgw_TCDAc', 'KRzu_YLe5UY', 'f0shuOVcBak', '4dgpOELKAOQ', 'KX_6nYXeg18', 'XkoJ70q1VdU', 'whABY8Cgtt4'])"
      ]
     },
     "execution_count": 17,
     "metadata": {},
     "output_type": "execute_result"
    }
   ],
   "source": [
    "good.keys()"
   ]
  },
  {
   "cell_type": "code",
   "execution_count": 18,
   "metadata": {},
   "outputs": [
    {
     "data": {
      "text/plain": [
       "48"
      ]
     },
     "execution_count": 18,
     "metadata": {},
     "output_type": "execute_result"
    }
   ],
   "source": [
    "len(good.keys())"
   ]
  },
  {
   "cell_type": "code",
   "execution_count": 19,
   "metadata": {},
   "outputs": [
    {
     "data": {
      "text/plain": [
       "[]"
      ]
     },
     "execution_count": 19,
     "metadata": {},
     "output_type": "execute_result"
    }
   ],
   "source": [
    "bad"
   ]
  },
  {
   "cell_type": "code",
   "execution_count": null,
   "metadata": {},
   "outputs": [],
   "source": [
    "#for url in good.keys():\n",
    "#    video = pafy.new(url)\n",
    "#    bestaudio = video.getbestaudio()\n",
    "#    bestaudio.download(meta=True) # Baixa na pasta que se encontra o codigo"
   ]
  },
  {
   "cell_type": "code",
   "execution_count": 20,
   "metadata": {
    "scrolled": true
   },
   "outputs": [
    {
     "name": "stdout",
     "output_type": "stream",
     "text": [
      "Removing cache dir C:\\Users\\carol/.cache\\youtube-dl ...\n",
      "[youtube] 5NlZKBjrWWU: Downloading webpage\n",
      "[download] Destination: ITAUSA (ITSA3_ITSA4) OU ITAÚ (ITUB3_ITUB4) QUAL AÇÃO É A MELHOR-5NlZKBjrWWU.m4a\n",
      "[download] 100% of 13.17MiB in 00:00                          \n"
     ]
    },
    {
     "name": "stderr",
     "output_type": "stream",
     "text": [
      "WARNING: 5NlZKBjrWWU: writing DASH m4a. Only some players support this container. Install ffmpeg or avconv to fix this automatically.\n"
     ]
    },
    {
     "name": "stdout",
     "output_type": "stream",
     "text": [
      "[youtube] GyEVGyCa5xk: Downloading webpage\n",
      "[download] Destination: ITAUSA (ITSA4) ESTÁ BARATA _ Calculando o PREÇO JUSTO de uma ação NA PRÁTICA!-GyEVGyCa5xk.m4a\n",
      "[download] 100% of 11.47MiB in 00:00                          \n"
     ]
    },
    {
     "name": "stderr",
     "output_type": "stream",
     "text": [
      "WARNING: GyEVGyCa5xk: writing DASH m4a. Only some players support this container. Install ffmpeg or avconv to fix this automatically.\n"
     ]
    },
    {
     "name": "stdout",
     "output_type": "stream",
     "text": [
      "[youtube] OZQrmpReoPQ: Downloading webpage\n",
      "[youtube] OZQrmpReoPQ: Downloading MPD manifest\n",
      "[dashsegments] Total fragments: 15\n",
      "[download] Destination: iti _ time iti _ atendimento-OZQrmpReoPQ.m4a\n",
      "[download] 100% of 2.06MiB in 00:02                   \n"
     ]
    },
    {
     "name": "stderr",
     "output_type": "stream",
     "text": [
      "WARNING: OZQrmpReoPQ: writing DASH m4a. Only some players support this container. Install ffmpeg or avconv to fix this automatically.\n"
     ]
    },
    {
     "name": "stdout",
     "output_type": "stream",
     "text": [
      "[youtube] w9GbIfolvUs: Downloading webpage\n",
      "[download] Destination: Como é ser Xpeer no Nubank-w9GbIfolvUs.m4a\n",
      "[download] 100% of 3.95MiB in 00:00                          \n"
     ]
    },
    {
     "name": "stderr",
     "output_type": "stream",
     "text": [
      "WARNING: w9GbIfolvUs: writing DASH m4a. Only some players support this container. Install ffmpeg or avconv to fix this automatically.\n"
     ]
    },
    {
     "name": "stdout",
     "output_type": "stream",
     "text": [
      "[youtube] V32uUYE5zx0: Downloading webpage\n",
      "[download] Destination: Como fazer cobrança por telefone - Dicas de Crédito e Cobrança - #DrDenisSiqueira-V32uUYE5zx0.m4a\n",
      "[download] 100% of 4.53MiB in 00:00                  \n"
     ]
    },
    {
     "name": "stderr",
     "output_type": "stream",
     "text": [
      "WARNING: V32uUYE5zx0: writing DASH m4a. Only some players support this container. Install ffmpeg or avconv to fix this automatically.\n"
     ]
    },
    {
     "name": "stdout",
     "output_type": "stream",
     "text": [
      "[youtube] -TYfkszDHLA: Downloading webpage\n",
      "[youtube] -TYfkszDHLA: Downloading MPD manifest\n",
      "[dashsegments] Total fragments: 37\n",
      "[download] Destination: 3 Dicas para vender mais Empréstimo Consignado--TYfkszDHLA.m4a\n",
      "[download] 100% of 5.44MiB in 00:01                      \n"
     ]
    },
    {
     "name": "stderr",
     "output_type": "stream",
     "text": [
      "WARNING: -TYfkszDHLA: writing DASH m4a. Only some players support this container. Install ffmpeg or avconv to fix this automatically.\n"
     ]
    },
    {
     "name": "stdout",
     "output_type": "stream",
     "text": [
      "[youtube] yT1yDeTfEXY: Downloading webpage\n",
      "[download] Destination: Cartão de Crédito Consignado - Serasa Ensina-yT1yDeTfEXY.m4a\n",
      "[download] 100% of 3.55MiB in 00:00                          \n"
     ]
    },
    {
     "name": "stderr",
     "output_type": "stream",
     "text": [
      "WARNING: yT1yDeTfEXY: writing DASH m4a. Only some players support this container. Install ffmpeg or avconv to fix this automatically.\n"
     ]
    },
    {
     "name": "stdout",
     "output_type": "stream",
     "text": [
      "[youtube] 5waS6VDp2kI: Downloading webpage\n",
      "[download] Destination: Cartão de crédito ou débito - Serasa Ensina-5waS6VDp2kI.m4a\n",
      "[download] 100% of 4.02MiB in 00:00                          \n"
     ]
    },
    {
     "name": "stderr",
     "output_type": "stream",
     "text": [
      "WARNING: 5waS6VDp2kI: writing DASH m4a. Only some players support this container. Install ffmpeg or avconv to fix this automatically.\n"
     ]
    },
    {
     "name": "stdout",
     "output_type": "stream",
     "text": [
      "[youtube] p7vkQgCfHzE: Downloading webpage\n",
      "[download] Destination: BB _ Novo Autoatendimento-p7vkQgCfHzE.m4a\n",
      "[download] 100% of 2.05MiB in 00:00                          \n"
     ]
    },
    {
     "name": "stderr",
     "output_type": "stream",
     "text": [
      "WARNING: p7vkQgCfHzE: writing DASH m4a. Only some players support this container. Install ffmpeg or avconv to fix this automatically.\n"
     ]
    },
    {
     "name": "stdout",
     "output_type": "stream",
     "text": [
      "[youtube] jCgYT5iD_Fk: Downloading webpage\n",
      "[download] Destination: A ilusão de ter um gerente no banco-jCgYT5iD_Fk.m4a\n",
      "[download] 100% of 2.35MiB in 00:00                          \n"
     ]
    },
    {
     "name": "stderr",
     "output_type": "stream",
     "text": [
      "WARNING: jCgYT5iD_Fk: writing DASH m4a. Only some players support this container. Install ffmpeg or avconv to fix this automatically.\n"
     ]
    },
    {
     "name": "stdout",
     "output_type": "stream",
     "text": [
      "[youtube] gV9PM31COEI: Downloading webpage\n",
      "[download] Destination: Empréstimo consignado pode deixar de ser consignado ou ser amortizado - #CerbasiResponde-gV9PM31COEI.m4a\n",
      "[download] 100% of 5.74MiB in 00:00                          \n"
     ]
    },
    {
     "name": "stderr",
     "output_type": "stream",
     "text": [
      "WARNING: gV9PM31COEI: writing DASH m4a. Only some players support this container. Install ffmpeg or avconv to fix this automatically.\n"
     ]
    },
    {
     "name": "stdout",
     "output_type": "stream",
     "text": [
      "[youtube] 6YTZ5ejVJbc: Downloading webpage\n",
      "[download] Destination: Portabilidade de Empréstimo Consignado-6YTZ5ejVJbc.m4a\n",
      "[download] 100% of 1.66MiB in 00:00                          \n"
     ]
    },
    {
     "name": "stderr",
     "output_type": "stream",
     "text": [
      "WARNING: 6YTZ5ejVJbc: writing DASH m4a. Only some players support this container. Install ffmpeg or avconv to fix this automatically.\n"
     ]
    },
    {
     "name": "stdout",
     "output_type": "stream",
     "text": [
      "[youtube] U_rvYpunNKk: Downloading webpage\n",
      "[download] Destination: BB _ Dona Hermínia - Empréstimo Consignado-U_rvYpunNKk.m4a\n",
      "[download] 100% of 2.36MiB in 00:00                  \n"
     ]
    },
    {
     "name": "stderr",
     "output_type": "stream",
     "text": [
      "WARNING: U_rvYpunNKk: writing DASH m4a. Only some players support this container. Install ffmpeg or avconv to fix this automatically.\n"
     ]
    },
    {
     "name": "stdout",
     "output_type": "stream",
     "text": [
      "[youtube] kyK6gUh0EqM: Downloading webpage\n",
      "[download] Destination: Como baixar os juros do seu empréstimo - #CerbasiResponde-kyK6gUh0EqM.m4a\n",
      "[download] 100% of 6.70MiB in 00:00                          \n"
     ]
    },
    {
     "name": "stderr",
     "output_type": "stream",
     "text": [
      "WARNING: kyK6gUh0EqM: writing DASH m4a. Only some players support this container. Install ffmpeg or avconv to fix this automatically.\n"
     ]
    },
    {
     "name": "stdout",
     "output_type": "stream",
     "text": [
      "[youtube] sRsCTXIcb5M: Downloading webpage\n",
      "[youtube] sRsCTXIcb5M: Downloading MPD manifest\n",
      "[dashsegments] Total fragments: 42\n",
      "[download] Destination: Empréstimo SEBRAE para MEI Programa juro zero 😱-sRsCTXIcb5M.m4a\n",
      "[download] 100% of 6.30MiB in 00:02                   \n"
     ]
    },
    {
     "name": "stderr",
     "output_type": "stream",
     "text": [
      "WARNING: sRsCTXIcb5M: writing DASH m4a. Only some players support this container. Install ffmpeg or avconv to fix this automatically.\n"
     ]
    },
    {
     "name": "stdout",
     "output_type": "stream",
     "text": [
      "[youtube] KrnWjb7_yZg: Downloading webpage\n",
      "[download] Destination: BNDES Giro _ Roleta - Salário-KrnWjb7_yZg.m4a\n",
      "[download] 100% of 234.49KiB in 00:00                          \n"
     ]
    },
    {
     "name": "stderr",
     "output_type": "stream",
     "text": [
      "WARNING: KrnWjb7_yZg: writing DASH m4a. Only some players support this container. Install ffmpeg or avconv to fix this automatically.\n"
     ]
    },
    {
     "name": "stdout",
     "output_type": "stream",
     "text": [
      "[youtube] 8czIoTWy5TY: Downloading webpage\n",
      "[youtube] 8czIoTWy5TY: Downloading MPD manifest\n",
      "[dashsegments] Total fragments: 29\n",
      "[download] Destination: Banco PAN adota Dynamics 365 em seu sistema de atendimento aos clientes de cartão de crédito-8czIoTWy5TY.m4a\n",
      "[download] 100% of 4.27MiB in 00:03                      \n"
     ]
    },
    {
     "name": "stderr",
     "output_type": "stream",
     "text": [
      "WARNING: 8czIoTWy5TY: writing DASH m4a. Only some players support this container. Install ffmpeg or avconv to fix this automatically.\n"
     ]
    },
    {
     "name": "stdout",
     "output_type": "stream",
     "text": [
      "[youtube] Olz4XGXdgUg: Downloading webpage\n",
      "[download] Destination: Como abrir uma empresa com pouco capital disponível - #CerbasiResponde-Olz4XGXdgUg.m4a\n",
      "[download] 100% of 5.10MiB in 00:00                          \n"
     ]
    },
    {
     "name": "stderr",
     "output_type": "stream",
     "text": [
      "WARNING: Olz4XGXdgUg: writing DASH m4a. Only some players support this container. Install ffmpeg or avconv to fix this automatically.\n"
     ]
    },
    {
     "name": "stdout",
     "output_type": "stream",
     "text": [
      "[youtube] ByiNh1qmM14: Downloading webpage\n",
      "[download] Destination: Cheque Especial - Como funciona Juros Vale a pena - Serasa Ensina-ByiNh1qmM14.m4a\n",
      "[download] 100% of 5.08MiB in 00:00                          \n"
     ]
    },
    {
     "name": "stderr",
     "output_type": "stream",
     "text": [
      "WARNING: ByiNh1qmM14: writing DASH m4a. Only some players support this container. Install ffmpeg or avconv to fix this automatically.\n"
     ]
    },
    {
     "name": "stdout",
     "output_type": "stream",
     "text": [
      "[youtube] Ai5qbLYZBb0: Downloading webpage\n",
      "[youtube] Ai5qbLYZBb0: Downloading MPD manifest\n",
      "[dashsegments] Total fragments: 80\n",
      "[download] Destination: 4 coisas que aprendi com a Netflix sobre atendimento ao cliente - SECNET-Ai5qbLYZBb0.m4a\n",
      "[download] 100% of 5.95MiB in 00:03                   \n"
     ]
    },
    {
     "name": "stderr",
     "output_type": "stream",
     "text": [
      "WARNING: Ai5qbLYZBb0: writing DASH m4a. Only some players support this container. Install ffmpeg or avconv to fix this automatically.\n"
     ]
    },
    {
     "name": "stdout",
     "output_type": "stream",
     "text": [
      "[youtube] BudPijYVD1E: Downloading webpage\n",
      "[youtube] BudPijYVD1E: Downloading MPD manifest\n",
      "[dashsegments] Total fragments: 10\n",
      "[download] Destination: Como faturar e emitir a etiqueta após venda dos seus produtos-BudPijYVD1E.m4a\n",
      "[download] 100% of 1.26MiB in 00:00                       \n"
     ]
    },
    {
     "name": "stderr",
     "output_type": "stream",
     "text": [
      "WARNING: BudPijYVD1E: writing DASH m4a. Only some players support this container. Install ffmpeg or avconv to fix this automatically.\n"
     ]
    },
    {
     "name": "stdout",
     "output_type": "stream",
     "text": [
      "[youtube] MqbhXqcOG-o: Downloading webpage\n",
      "[youtube] MqbhXqcOG-o: Downloading MPD manifest\n",
      "[dashsegments] Total fragments: 104\n",
      "[download] Destination: Como sair do Cheque Especial - Série Saindo do Buraco Dívidas ep #3-MqbhXqcOG-o.m4a\n",
      "[download] 100% of 7.75MiB in 00:04                      \n"
     ]
    },
    {
     "name": "stderr",
     "output_type": "stream",
     "text": [
      "WARNING: MqbhXqcOG-o: writing DASH m4a. Only some players support this container. Install ffmpeg or avconv to fix this automatically.\n"
     ]
    },
    {
     "name": "stdout",
     "output_type": "stream",
     "text": [
      "[youtube] iLfGLCXNBqk: Downloading webpage\n",
      "[download] Destination: Compensa vender um bem para quitar dívidas no cheque especial - #CerbasiResponde-iLfGLCXNBqk.m4a\n",
      "[download] 100% of 2.42MiB in 00:00                          \n"
     ]
    },
    {
     "name": "stderr",
     "output_type": "stream",
     "text": [
      "WARNING: iLfGLCXNBqk: writing DASH m4a. Only some players support this container. Install ffmpeg or avconv to fix this automatically.\n"
     ]
    },
    {
     "name": "stdout",
     "output_type": "stream",
     "text": [
      "[youtube] p0yIcF4CWgk: Downloading webpage\n",
      "[youtube] p0yIcF4CWgk: Downloading MPD manifest\n",
      "[dashsegments] Total fragments: 21\n",
      "[download] Destination: Redução de juros cheque especial - Serasa Ensina-p0yIcF4CWgk.m4a\n",
      "[download] 100% of 3.06MiB in 00:01                      \n"
     ]
    },
    {
     "name": "stderr",
     "output_type": "stream",
     "text": [
      "WARNING: p0yIcF4CWgk: writing DASH m4a. Only some players support this container. Install ffmpeg or avconv to fix this automatically.\n"
     ]
    },
    {
     "name": "stdout",
     "output_type": "stream",
     "text": [
      "[youtube] LqAWP3Ilhw8: Downloading webpage\n",
      "[download] Destination: Gerente do banco _ Amigo ou inimigo-LqAWP3Ilhw8.m4a\n",
      "[download] 100% of 6.88MiB in 00:00                          \n"
     ]
    },
    {
     "name": "stderr",
     "output_type": "stream",
     "text": [
      "WARNING: LqAWP3Ilhw8: writing DASH m4a. Only some players support this container. Install ffmpeg or avconv to fix this automatically.\n"
     ]
    },
    {
     "name": "stdout",
     "output_type": "stream",
     "text": [
      "[youtube] EdgZVDrT9mQ: Downloading webpage\n",
      "[download] Destination: O que tem de errado na conta do Nubank-EdgZVDrT9mQ.m4a\n",
      "[download] 100% of 1.77MiB in 00:00                          \n"
     ]
    },
    {
     "name": "stderr",
     "output_type": "stream",
     "text": [
      "WARNING: EdgZVDrT9mQ: writing DASH m4a. Only some players support this container. Install ffmpeg or avconv to fix this automatically.\n"
     ]
    },
    {
     "name": "stdout",
     "output_type": "stream",
     "text": [
      "[youtube] BpJgyk4ncqc: Downloading webpage\n",
      "[download] Destination: Empréstimo para autônomo - como conseguir - Serasa Ensina-BpJgyk4ncqc.m4a\n",
      "[download] 100% of 3.02MiB in 00:00                          \n"
     ]
    },
    {
     "name": "stderr",
     "output_type": "stream",
     "text": [
      "WARNING: BpJgyk4ncqc: writing DASH m4a. Only some players support this container. Install ffmpeg or avconv to fix this automatically.\n"
     ]
    },
    {
     "name": "stdout",
     "output_type": "stream",
     "text": [
      "[youtube] asWtS5XTIYY: Downloading webpage\n",
      "[download] Destination: O que é o Banco Central e o que isso tem a ver com você-asWtS5XTIYY.m4a\n",
      "[download] 100% of 6.12MiB in 00:00                          \n"
     ]
    },
    {
     "name": "stderr",
     "output_type": "stream",
     "text": [
      "WARNING: asWtS5XTIYY: writing DASH m4a. Only some players support this container. Install ffmpeg or avconv to fix this automatically.\n"
     ]
    },
    {
     "name": "stdout",
     "output_type": "stream",
     "text": [
      "[youtube] LCQayFjcr2U: Downloading webpage\n",
      "[download] Destination: O Que Pode Sujar Meu Nome - Serasa Ensina-LCQayFjcr2U.m4a\n",
      "[download] 100% of 4.89MiB in 00:00                          \n"
     ]
    },
    {
     "name": "stderr",
     "output_type": "stream",
     "text": [
      "WARNING: LCQayFjcr2U: writing DASH m4a. Only some players support this container. Install ffmpeg or avconv to fix this automatically.\n"
     ]
    },
    {
     "name": "stdout",
     "output_type": "stream",
     "text": [
      "[youtube] GGIqp0r2je4: Downloading webpage\n",
      "[download] Destination: Curso O PROBLEMA É SEU! Aula 3 (essa aula vai explodir sua cabeça!)-GGIqp0r2je4.m4a\n",
      "[download] 100% of 21.02MiB in 00:01                          \n"
     ]
    },
    {
     "name": "stderr",
     "output_type": "stream",
     "text": [
      "WARNING: GGIqp0r2je4: writing DASH m4a. Only some players support this container. Install ffmpeg or avconv to fix this automatically.\n"
     ]
    },
    {
     "name": "stdout",
     "output_type": "stream",
     "text": [
      "[youtube] EyET7fOzHi4: Downloading webpage\n",
      "[download] Destination: BS2 - Como um banco deve ser-EyET7fOzHi4.m4a\n",
      "[download] 100% of 477.20KiB in 00:00                          \n"
     ]
    },
    {
     "name": "stderr",
     "output_type": "stream",
     "text": [
      "WARNING: EyET7fOzHi4: writing DASH m4a. Only some players support this container. Install ffmpeg or avconv to fix this automatically.\n"
     ]
    },
    {
     "name": "stdout",
     "output_type": "stream",
     "text": [
      "[youtube] u0A5Opejy2k: Downloading webpage\n",
      "[download] Destination: Nota de R$ 200 - por que agora e qual a razão de tanta polêmica-u0A5Opejy2k.m4a\n",
      "[download] 100% of 6.52MiB in 00:00                          \n"
     ]
    },
    {
     "name": "stderr",
     "output_type": "stream",
     "text": [
      "WARNING: u0A5Opejy2k: writing DASH m4a. Only some players support this container. Install ffmpeg or avconv to fix this automatically.\n"
     ]
    },
    {
     "name": "stdout",
     "output_type": "stream",
     "text": [
      "[youtube] rLRkvvXehFc: Downloading webpage\n",
      "[download] Destination: Débito ou crédito - qual é a melhor forma de pagamento-rLRkvvXehFc.m4a\n",
      "[download] 100% of 2.39MiB in 00:00                          \n"
     ]
    },
    {
     "name": "stderr",
     "output_type": "stream",
     "text": [
      "WARNING: rLRkvvXehFc: writing DASH m4a. Only some players support this container. Install ffmpeg or avconv to fix this automatically.\n"
     ]
    },
    {
     "name": "stdout",
     "output_type": "stream",
     "text": [
      "[youtube] EkdogihEvXM: Downloading webpage\n",
      "[download] Destination: Qual é a diferença entre TED e DOC-EkdogihEvXM.m4a\n",
      "[download] 100% of 2.31MiB in 00:00                          \n"
     ]
    },
    {
     "name": "stderr",
     "output_type": "stream",
     "text": [
      "WARNING: EkdogihEvXM: writing DASH m4a. Only some players support this container. Install ffmpeg or avconv to fix this automatically.\n"
     ]
    },
    {
     "name": "stdout",
     "output_type": "stream",
     "text": [
      "[youtube] 2Sk1ruX7bT0: Downloading webpage\n",
      "[download] Destination: DOC e TED - você sabe qual é a diferença - Serasa Ensina-2Sk1ruX7bT0.m4a\n",
      "[download] 100% of 3.03MiB in 00:00                          \n"
     ]
    },
    {
     "name": "stderr",
     "output_type": "stream",
     "text": [
      "WARNING: 2Sk1ruX7bT0: writing DASH m4a. Only some players support this container. Install ffmpeg or avconv to fix this automatically.\n"
     ]
    },
    {
     "name": "stdout",
     "output_type": "stream",
     "text": [
      "[youtube] FV8YZG7MtvM: Downloading webpage\n",
      "[download] Destination: Aprenda como fazer depósitos na sua conta do Nubank-FV8YZG7MtvM.m4a\n",
      "[download] 100% of 1.41MiB in 00:00                  \n"
     ]
    },
    {
     "name": "stderr",
     "output_type": "stream",
     "text": [
      "WARNING: FV8YZG7MtvM: writing DASH m4a. Only some players support this container. Install ffmpeg or avconv to fix this automatically.\n"
     ]
    },
    {
     "name": "stdout",
     "output_type": "stream",
     "text": [
      "[youtube] QtW-vjZ3CSc: Downloading webpage\n",
      "[download] Destination: 5 COISAS QUE ROUBAM O SEU DINHEIRO! (às vezes, pra sempre)-QtW-vjZ3CSc.m4a\n",
      "[download] 100% of 10.54MiB in 00:00                          \n"
     ]
    },
    {
     "name": "stderr",
     "output_type": "stream",
     "text": [
      "WARNING: QtW-vjZ3CSc: writing DASH m4a. Only some players support this container. Install ffmpeg or avconv to fix this automatically.\n"
     ]
    },
    {
     "name": "stdout",
     "output_type": "stream",
     "text": [
      "[youtube] Y0OZXG9NKWU: Downloading webpage\n",
      "[download] Destination: Dívida Protestada - como resolver - Serasa Ensina-Y0OZXG9NKWU.m4a\n",
      "[download] 100% of 3.28MiB in 00:00                          \n"
     ]
    },
    {
     "name": "stderr",
     "output_type": "stream",
     "text": [
      "WARNING: Y0OZXG9NKWU: writing DASH m4a. Only some players support this container. Install ffmpeg or avconv to fix this automatically.\n"
     ]
    },
    {
     "name": "stdout",
     "output_type": "stream",
     "text": [
      "[youtube] d2xD1L4OWWk: Downloading webpage\n",
      "[download] Destination: Empréstimo x Financiamento - conheça as diferenças - Serasa Ensina-d2xD1L4OWWk.m4a\n",
      "[download] 100% of 4.49MiB in 00:00                          \n"
     ]
    },
    {
     "name": "stderr",
     "output_type": "stream",
     "text": [
      "WARNING: d2xD1L4OWWk: writing DASH m4a. Only some players support this container. Install ffmpeg or avconv to fix this automatically.\n"
     ]
    },
    {
     "name": "stdout",
     "output_type": "stream",
     "text": [
      "[youtube] wBza_qqt6aQ: Downloading webpage\n",
      "[download] Destination: Como pagar boleto vencido - Serasa Ensina-wBza_qqt6aQ.m4a\n",
      "[download] 100% of 4.67MiB in 00:00                          \n"
     ]
    },
    {
     "name": "stderr",
     "output_type": "stream",
     "text": [
      "WARNING: wBza_qqt6aQ: writing DASH m4a. Only some players support this container. Install ffmpeg or avconv to fix this automatically.\n"
     ]
    },
    {
     "name": "stdout",
     "output_type": "stream",
     "text": [
      "[youtube] unnS5O9bNbA: Downloading webpage\n",
      "[download] Destination: Dívida CADUCA Como funciona - Serasa Ensina-unnS5O9bNbA.m4a\n",
      "[download] 100% of 3.44MiB in 00:00                  \n"
     ]
    },
    {
     "name": "stderr",
     "output_type": "stream",
     "text": [
      "WARNING: unnS5O9bNbA: writing DASH m4a. Only some players support this container. Install ffmpeg or avconv to fix this automatically.\n"
     ]
    },
    {
     "name": "stdout",
     "output_type": "stream",
     "text": [
      "[youtube] v3rgw_TCDAc: Downloading webpage\n",
      "[download] Destination: Como conseguir cartão de crédito pela internet - Serasa Ensina-v3rgw_TCDAc.m4a\n",
      "[download] 100% of 4.65MiB in 00:00                          \n"
     ]
    },
    {
     "name": "stderr",
     "output_type": "stream",
     "text": [
      "WARNING: v3rgw_TCDAc: writing DASH m4a. Only some players support this container. Install ffmpeg or avconv to fix this automatically.\n"
     ]
    },
    {
     "name": "stdout",
     "output_type": "stream",
     "text": [
      "[youtube] KRzu_YLe5UY: Downloading webpage\n",
      "[download] Destination: Cartão de crédito - vale a pena pagar anuidade - Serasa Ensina-KRzu_YLe5UY.m4a\n",
      "[download] 100% of 4.40MiB in 00:00                          \n"
     ]
    },
    {
     "name": "stderr",
     "output_type": "stream",
     "text": [
      "WARNING: KRzu_YLe5UY: writing DASH m4a. Only some players support this container. Install ffmpeg or avconv to fix this automatically.\n"
     ]
    },
    {
     "name": "stdout",
     "output_type": "stream",
     "text": [
      "[youtube] f0shuOVcBak: Downloading webpage\n",
      "[youtube] f0shuOVcBak: Downloading MPD manifest\n",
      "[dashsegments] Total fragments: 24\n",
      "[download] Destination: NEGATIVAÇÃO INDEVIDA - Danos Morais - Dr Vinícius Jacob.-f0shuOVcBak.m4a\n",
      "[download] 100% of 3.44MiB in 00:02                      \n"
     ]
    },
    {
     "name": "stderr",
     "output_type": "stream",
     "text": [
      "WARNING: f0shuOVcBak: writing DASH m4a. Only some players support this container. Install ffmpeg or avconv to fix this automatically.\n"
     ]
    },
    {
     "name": "stdout",
     "output_type": "stream",
     "text": [
      "[youtube] 4dgpOELKAOQ: Downloading webpage\n",
      "[download] Destination: Pagamento mínimo da fatura do Cartão de Crédito - Serasa Ensina-4dgpOELKAOQ.m4a\n",
      "[download] 100% of 4.80MiB in 00:00                          \n"
     ]
    },
    {
     "name": "stderr",
     "output_type": "stream",
     "text": [
      "WARNING: 4dgpOELKAOQ: writing DASH m4a. Only some players support this container. Install ffmpeg or avconv to fix this automatically.\n"
     ]
    },
    {
     "name": "stdout",
     "output_type": "stream",
     "text": [
      "[youtube] KX_6nYXeg18: Downloading webpage\n",
      "[download] Destination: Como trocar dívida cara por dívida barata - Serasa Ensina-KX_6nYXeg18.m4a\n",
      "[download] 100% of 4.92MiB in 00:00                          \n"
     ]
    },
    {
     "name": "stderr",
     "output_type": "stream",
     "text": [
      "WARNING: KX_6nYXeg18: writing DASH m4a. Only some players support this container. Install ffmpeg or avconv to fix this automatically.\n"
     ]
    },
    {
     "name": "stdout",
     "output_type": "stream",
     "text": [
      "[youtube] XkoJ70q1VdU: Downloading webpage\n",
      "[youtube] XkoJ70q1VdU: Downloading MPD manifest\n",
      "[dashsegments] Total fragments: 34\n",
      "[download] Destination: O que é Imposto - Serasa Ensina-XkoJ70q1VdU.m4a\n",
      "[download] 100% of 5.02MiB in 00:03                      \n"
     ]
    },
    {
     "name": "stderr",
     "output_type": "stream",
     "text": [
      "WARNING: XkoJ70q1VdU: writing DASH m4a. Only some players support this container. Install ffmpeg or avconv to fix this automatically.\n"
     ]
    },
    {
     "name": "stdout",
     "output_type": "stream",
     "text": [
      "[youtube] whABY8Cgtt4: Downloading webpage\n",
      "[youtube] whABY8Cgtt4: Downloading MPD manifest\n",
      "[dashsegments] Total fragments: 41\n",
      "[download] Destination: Crie senha forte e proteja suas informações - Serasa Ensina-whABY8Cgtt4.m4a\n",
      "[download] 100% of 6.14MiB in 00:01                      \n"
     ]
    },
    {
     "name": "stderr",
     "output_type": "stream",
     "text": [
      "WARNING: whABY8Cgtt4: writing DASH m4a. Only some players support this container. Install ffmpeg or avconv to fix this automatically.\n"
     ]
    }
   ],
   "source": [
    "from __future__ import unicode_literals\n",
    "import youtube_dl\n",
    "\n",
    "ydl_opts = {\n",
    "    'format': 'm4a/bestaudio/best',\n",
    "}\n",
    "with youtube_dl.YoutubeDL(ydl_opts) as ydl:\n",
    "    ydl.cache.remove()\n",
    "    ydl.download(good.keys())"
   ]
  },
  {
   "cell_type": "code",
   "execution_count": null,
   "metadata": {},
   "outputs": [],
   "source": []
  }
 ],
 "metadata": {
  "kernelspec": {
   "display_name": "Python 3",
   "language": "python",
   "name": "python3"
  },
  "language_info": {
   "codemirror_mode": {
    "name": "ipython",
    "version": 3
   },
   "file_extension": ".py",
   "mimetype": "text/x-python",
   "name": "python",
   "nbconvert_exporter": "python",
   "pygments_lexer": "ipython3",
   "version": "3.7.3"
  }
 },
 "nbformat": 4,
 "nbformat_minor": 2
}
